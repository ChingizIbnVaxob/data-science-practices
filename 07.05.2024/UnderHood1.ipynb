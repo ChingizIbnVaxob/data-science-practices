{
  "nbformat": 4,
  "nbformat_minor": 0,
  "metadata": {
    "colab": {
      "provenance": [],
      "authorship_tag": "ABX9TyP/t2Y5OSW+vCgok5Ax7VjI",
      "include_colab_link": true
    },
    "kernelspec": {
      "name": "python3",
      "display_name": "Python 3"
    },
    "language_info": {
      "name": "python"
    }
  },
  "cells": [
    {
      "cell_type": "markdown",
      "metadata": {
        "id": "view-in-github",
        "colab_type": "text"
      },
      "source": [
        "<a href=\"https://colab.research.google.com/github/ChingizIbnVaxob/data-science-practices/blob/main/07.05.2024/UnderHood1.ipynb\" target=\"_parent\"><img src=\"https://colab.research.google.com/assets/colab-badge.svg\" alt=\"Open In Colab\"/></a>"
      ]
    },
    {
      "cell_type": "code",
      "source": [
        "from fastai.vision.all import *\n",
        "import torch\n",
        "\n",
        "#path\n",
        "path = untar_data(URLs.MNIST_SAMPLE)\n",
        "threes = (path/'train'/'3').ls().sorted()\n",
        "sevens = (path/'train'/'7').ls().sorted()"
      ],
      "metadata": {
        "colab": {
          "base_uri": "https://localhost:8080/",
          "height": 37
        },
        "id": "EqKfRgJ4TIeP",
        "outputId": "b6709620-32e1-41ce-bb5d-7c5b7ae2d59c"
      },
      "execution_count": 1,
      "outputs": [
        {
          "output_type": "display_data",
          "data": {
            "text/plain": [
              "<IPython.core.display.HTML object>"
            ],
            "text/html": [
              "\n",
              "<style>\n",
              "    /* Turns off some styling */\n",
              "    progress {\n",
              "        /* gets rid of default border in Firefox and Opera. */\n",
              "        border: none;\n",
              "        /* Needs to be in here for Safari polyfill so background images work as expected. */\n",
              "        background-size: auto;\n",
              "    }\n",
              "    progress:not([value]), progress:not([value])::-webkit-progress-bar {\n",
              "        background: repeating-linear-gradient(45deg, #7e7e7e, #7e7e7e 10px, #5c5c5c 10px, #5c5c5c 20px);\n",
              "    }\n",
              "    .progress-bar-interrupted, .progress-bar-interrupted::-webkit-progress-bar {\n",
              "        background: #F44336;\n",
              "    }\n",
              "</style>\n"
            ]
          },
          "metadata": {}
        },
        {
          "output_type": "display_data",
          "data": {
            "text/plain": [
              "<IPython.core.display.HTML object>"
            ],
            "text/html": [
              "\n",
              "    <div>\n",
              "      <progress value='3219456' class='' max='3214948' style='width:300px; height:20px; vertical-align: middle;'></progress>\n",
              "      100.14% [3219456/3214948 00:00&lt;00:00]\n",
              "    </div>\n",
              "    "
            ]
          },
          "metadata": {}
        }
      ]
    },
    {
      "cell_type": "code",
      "source": [
        "img3_sample = threes[3]\n",
        "img3 = Image.open(img3_sample)\n",
        "img3"
      ],
      "metadata": {
        "colab": {
          "base_uri": "https://localhost:8080/",
          "height": 45
        },
        "id": "jnXwGOs5UG9h",
        "outputId": "a137c771-a2ac-4c8a-fb24-2d658b1af335"
      },
      "execution_count": 2,
      "outputs": [
        {
          "output_type": "execute_result",
          "data": {
            "text/plain": [
              "<PIL.PngImagePlugin.PngImageFile image mode=L size=28x28>"
            ],
            "image/png": "[encoded data removed]"
          },
          "metadata": {},
          "execution_count": 2
        }
      ]
    },
    {
      "cell_type": "code",
      "source": [
        "img7_sample = sevens[999]\n",
        "img7 = Image.open(img7_sample)\n",
        "img7"
      ],
      "metadata": {
        "colab": {
          "base_uri": "https://localhost:8080/",
          "height": 45
        },
        "id": "yy24RV2KU6O-",
        "outputId": "d243275b-5144-447b-96fd-9e45a84a0567"
      },
      "execution_count": 3,
      "outputs": [
        {
          "output_type": "execute_result",
          "data": {
            "text/plain": [
              "<PIL.PngImagePlugin.PngImageFile image mode=L size=28x28>"
            ],
            "image/png": "[encoded data removed]"
          },
          "metadata": {},
          "execution_count": 3
        }
      ]
    },
    {
      "cell_type": "code",
      "source": [
        "array(img3)[4:10, 4:10] #convert to array"
      ],
      "metadata": {
        "colab": {
          "base_uri": "https://localhost:8080/"
        },
        "id": "cVwsoPTgVVDL",
        "outputId": "e212c805-a041-426e-914a-d1e73dc8c507"
      },
      "execution_count": 4,
      "outputs": [
        {
          "output_type": "execute_result",
          "data": {
            "text/plain": [
              "array([[  0,   0,   0,   0,   0,   0],\n",
              "       [  0,   0,   0,   0,   0,   0],\n",
              "       [  0,   0,   0,   0,   0, 178],\n",
              "       [  0,   0,   0,   0,   0, 186],\n",
              "       [  0,   0,   0,   0,   0, 186],\n",
              "       [  0,   0,   0,   0,   0,  39]], dtype=uint8)"
            ]
          },
          "metadata": {},
          "execution_count": 4
        }
      ]
    },
    {
      "cell_type": "code",
      "source": [
        "tensor(img3)[4:10, 4:10] #convert to tensor"
      ],
      "metadata": {
        "colab": {
          "base_uri": "https://localhost:8080/"
        },
        "id": "-tiempUNV8I4",
        "outputId": "962d8f6a-d87b-4a0d-8f48-5472f8660cf9"
      },
      "execution_count": 5,
      "outputs": [
        {
          "output_type": "execute_result",
          "data": {
            "text/plain": [
              "tensor([[  0,   0,   0,   0,   0,   0],\n",
              "        [  0,   0,   0,   0,   0,   0],\n",
              "        [  0,   0,   0,   0,   0, 178],\n",
              "        [  0,   0,   0,   0,   0, 186],\n",
              "        [  0,   0,   0,   0,   0, 186],\n",
              "        [  0,   0,   0,   0,   0,  39]], dtype=torch.uint8)"
            ]
          },
          "metadata": {},
          "execution_count": 5
        }
      ]
    },
    {
      "cell_type": "code",
      "source": [
        "import pandas as pd\n",
        "img3_t = tensor(img3)\n",
        "df = pd.DataFrame(img3_t[4:22, 4:22])\n",
        "df.style.set_properties(**{'font-size':'6pt'}).background_gradient('Greys')"
      ],
      "metadata": {
        "colab": {
          "base_uri": "https://localhost:8080/",
          "height": 613
        },
        "id": "C3b1a47dWK7_",
        "outputId": "78efa83e-b4de-4a16-ee11-d96312038ff8"
      },
      "execution_count": 6,
      "outputs": [
        {
          "output_type": "execute_result",
          "data": {
            "text/plain": [
              "<pandas.io.formats.style.Styler at 0x78671a977640>"
            ],
            "text/html": [
              "<style type=\"text/css\">\n",
              "#T_b2c12_row0_col0, #T_b2c12_row0_col1, #T_b2c12_row0_col2, #T_b2c12_row0_col3, #T_b2c12_row0_col4, #T_b2c12_row0_col5, #T_b2c12_row0_col6, #T_b2c12_row0_col7, #T_b2c12_row0_col8, #T_b2c12_row0_col9, #T_b2c12_row0_col10, #T_b2c12_row0_col11, #T_b2c12_row0_col12, #T_b2c12_row0_col13, #T_b2c12_row0_col14, #T_b2c12_row0_col15, #T_b2c12_row0_col16, #T_b2c12_row0_col17, #T_b2c12_row1_col0, #T_b2c12_row1_col1, #T_b2c12_row1_col2, #T_b2c12_row1_col3, #T_b2c12_row1_col4, #T_b2c12_row1_col5, #T_b2c12_row1_col16, #T_b2c12_row1_col17, #T_b2c12_row2_col0, #T_b2c12_row2_col1, #T_b2c12_row2_col2, #T_b2c12_row2_col3, #T_b2c12_row2_col4, #T_b2c12_row2_col17, #T_b2c12_row3_col0, #T_b2c12_row3_col1, #T_b2c12_row3_col2, #T_b2c12_row3_col3, #T_b2c12_row3_col4, #T_b2c12_row3_col17, #T_b2c12_row4_col0, #T_b2c12_row4_col1, #T_b2c12_row4_col2, #T_b2c12_row4_col3, #T_b2c12_row4_col4, #T_b2c12_row4_col17, #T_b2c12_row5_col0, #T_b2c12_row5_col1, #T_b2c12_row5_col2, #T_b2c12_row5_col3, #T_b2c12_row5_col4, #T_b2c12_row5_col8, #T_b2c12_row5_col9, #T_b2c12_row5_col10, #T_b2c12_row5_col17, #T_b2c12_row6_col0, #T_b2c12_row6_col1, #T_b2c12_row6_col2, #T_b2c12_row6_col3, #T_b2c12_row6_col4, #T_b2c12_row6_col5, #T_b2c12_row6_col6, #T_b2c12_row6_col7, #T_b2c12_row6_col8, #T_b2c12_row6_col9, #T_b2c12_row6_col17, #T_b2c12_row7_col0, #T_b2c12_row7_col1, #T_b2c12_row7_col2, #T_b2c12_row7_col3, #T_b2c12_row7_col4, #T_b2c12_row7_col5, #T_b2c12_row7_col6, #T_b2c12_row7_col7, #T_b2c12_row7_col16, #T_b2c12_row7_col17, #T_b2c12_row8_col0, #T_b2c12_row8_col1, #T_b2c12_row8_col2, #T_b2c12_row8_col3, #T_b2c12_row8_col4, #T_b2c12_row8_col5, #T_b2c12_row8_col17, #T_b2c12_row9_col0, #T_b2c12_row9_col1, #T_b2c12_row9_col2, #T_b2c12_row9_col3, #T_b2c12_row9_col4, #T_b2c12_row9_col17, #T_b2c12_row10_col0, #T_b2c12_row10_col1, #T_b2c12_row10_col2, #T_b2c12_row10_col3, #T_b2c12_row10_col4, #T_b2c12_row11_col0, #T_b2c12_row11_col1, #T_b2c12_row11_col2, #T_b2c12_row11_col3, #T_b2c12_row11_col4, #T_b2c12_row11_col12, #T_b2c12_row11_col13, #T_b2c12_row12_col0, #T_b2c12_row12_col1, #T_b2c12_row12_col2, #T_b2c12_row12_col3, #T_b2c12_row12_col4, #T_b2c12_row12_col10, #T_b2c12_row12_col11, #T_b2c12_row12_col12, #T_b2c12_row13_col0, #T_b2c12_row13_col1, #T_b2c12_row13_col2, #T_b2c12_row13_col3, #T_b2c12_row13_col4, #T_b2c12_row13_col5, #T_b2c12_row13_col8, #T_b2c12_row13_col9, #T_b2c12_row13_col10, #T_b2c12_row13_col11, #T_b2c12_row13_col12, #T_b2c12_row14_col0, #T_b2c12_row14_col1, #T_b2c12_row14_col2, #T_b2c12_row14_col3, #T_b2c12_row14_col4, #T_b2c12_row14_col5, #T_b2c12_row14_col6, #T_b2c12_row14_col7, #T_b2c12_row14_col8, #T_b2c12_row14_col9, #T_b2c12_row14_col10, #T_b2c12_row14_col17, #T_b2c12_row15_col0, #T_b2c12_row15_col1, #T_b2c12_row15_col2, #T_b2c12_row15_col3, #T_b2c12_row15_col4, #T_b2c12_row15_col5, #T_b2c12_row15_col6, #T_b2c12_row15_col7, #T_b2c12_row15_col8, #T_b2c12_row15_col9, #T_b2c12_row15_col10, #T_b2c12_row15_col16, #T_b2c12_row15_col17, #T_b2c12_row16_col0, #T_b2c12_row16_col1, #T_b2c12_row16_col4, #T_b2c12_row16_col5, #T_b2c12_row16_col6, #T_b2c12_row16_col7, #T_b2c12_row16_col15, #T_b2c12_row16_col16, #T_b2c12_row16_col17, #T_b2c12_row17_col0, #T_b2c12_row17_col1, #T_b2c12_row17_col14, #T_b2c12_row17_col15, #T_b2c12_row17_col16, #T_b2c12_row17_col17 {\n",
              "  font-size: 6pt;\n",
              "  background-color: #ffffff;\n",
              "  color: #000000;\n",
              "}\n",
              "#T_b2c12_row1_col6 {\n",
              "  font-size: 6pt;\n",
              "  background-color: #b2b2b2;\n",
              "  color: #000000;\n",
              "}\n",
              "#T_b2c12_row1_col7, #T_b2c12_row1_col8, #T_b2c12_row1_col9, #T_b2c12_row1_col10, #T_b2c12_row1_col11, #T_b2c12_row1_col12, #T_b2c12_row1_col13, #T_b2c12_row2_col14, #T_b2c12_row3_col14, #T_b2c12_row4_col14, #T_b2c12_row5_col14, #T_b2c12_row6_col14, #T_b2c12_row9_col14, #T_b2c12_row11_col5, #T_b2c12_row11_col6, #T_b2c12_row11_col7, #T_b2c12_row11_col8, #T_b2c12_row11_col9, #T_b2c12_row11_col15, #T_b2c12_row11_col16, #T_b2c12_row11_col17, #T_b2c12_row12_col17, #T_b2c12_row13_col14, #T_b2c12_row14_col14, #T_b2c12_row17_col2, #T_b2c12_row17_col3, #T_b2c12_row17_col4 {\n",
              "  font-size: 6pt;\n",
              "  background-color: #000000;\n",
              "  color: #f1f1f1;\n",
              "}\n",
              "#T_b2c12_row1_col14, #T_b2c12_row4_col13 {\n",
              "  font-size: 6pt;\n",
              "  background-color: #282828;\n",
              "  color: #f1f1f1;\n",
              "}\n",
              "#T_b2c12_row1_col15 {\n",
              "  font-size: 6pt;\n",
              "  background-color: #f0f0f0;\n",
              "  color: #000000;\n",
              "}\n",
              "#T_b2c12_row2_col5 {\n",
              "  font-size: 6pt;\n",
              "  background-color: #0e0e0e;\n",
              "  color: #f1f1f1;\n",
              "}\n",
              "#T_b2c12_row2_col6 {\n",
              "  font-size: 6pt;\n",
              "  background-color: #060606;\n",
              "  color: #f1f1f1;\n",
              "}\n",
              "#T_b2c12_row2_col7, #T_b2c12_row2_col8, #T_b2c12_row2_col9, #T_b2c12_row2_col11, #T_b2c12_row2_col12, #T_b2c12_row2_col13, #T_b2c12_row3_col5, #T_b2c12_row3_col6, #T_b2c12_row3_col7, #T_b2c12_row3_col8, #T_b2c12_row3_col9, #T_b2c12_row3_col11, #T_b2c12_row3_col12, #T_b2c12_row3_col13, #T_b2c12_row3_col15, #T_b2c12_row4_col5, #T_b2c12_row4_col6, #T_b2c12_row4_col15, #T_b2c12_row5_col15, #T_b2c12_row6_col12, #T_b2c12_row6_col13, #T_b2c12_row7_col11, #T_b2c12_row7_col12, #T_b2c12_row7_col13, #T_b2c12_row8_col9, #T_b2c12_row8_col11, #T_b2c12_row8_col12, #T_b2c12_row8_col13, #T_b2c12_row9_col7, #T_b2c12_row9_col8, #T_b2c12_row9_col9, #T_b2c12_row9_col11, #T_b2c12_row9_col12, #T_b2c12_row9_col13, #T_b2c12_row9_col15, #T_b2c12_row10_col5, #T_b2c12_row10_col6, #T_b2c12_row10_col7, #T_b2c12_row10_col8, #T_b2c12_row10_col9, #T_b2c12_row10_col11, #T_b2c12_row10_col12, #T_b2c12_row10_col15, #T_b2c12_row12_col15, #T_b2c12_row12_col16, #T_b2c12_row13_col15, #T_b2c12_row15_col12, #T_b2c12_row15_col13, #T_b2c12_row16_col12, #T_b2c12_row17_col9, #T_b2c12_row17_col11 {\n",
              "  font-size: 6pt;\n",
              "  background-color: #010101;\n",
              "  color: #f1f1f1;\n",
              "}\n",
              "#T_b2c12_row2_col10, #T_b2c12_row3_col10, #T_b2c12_row7_col10, #T_b2c12_row8_col10, #T_b2c12_row9_col10, #T_b2c12_row10_col10, #T_b2c12_row17_col10 {\n",
              "  font-size: 6pt;\n",
              "  background-color: #020202;\n",
              "  color: #f1f1f1;\n",
              "}\n",
              "#T_b2c12_row2_col15 {\n",
              "  font-size: 6pt;\n",
              "  background-color: #2e2e2e;\n",
              "  color: #f1f1f1;\n",
              "}\n",
              "#T_b2c12_row2_col16, #T_b2c12_row12_col13, #T_b2c12_row14_col11 {\n",
              "  font-size: 6pt;\n",
              "  background-color: #eeeeee;\n",
              "  color: #000000;\n",
              "}\n",
              "#T_b2c12_row3_col16, #T_b2c12_row4_col16, #T_b2c12_row5_col16 {\n",
              "  font-size: 6pt;\n",
              "  background-color: #cccccc;\n",
              "  color: #000000;\n",
              "}\n",
              "#T_b2c12_row4_col7 {\n",
              "  font-size: 6pt;\n",
              "  background-color: #0c0c0c;\n",
              "  color: #f1f1f1;\n",
              "}\n",
              "#T_b2c12_row4_col8, #T_b2c12_row4_col9 {\n",
              "  font-size: 6pt;\n",
              "  background-color: #646464;\n",
              "  color: #f1f1f1;\n",
              "}\n",
              "#T_b2c12_row4_col10, #T_b2c12_row4_col11, #T_b2c12_row4_col12 {\n",
              "  font-size: 6pt;\n",
              "  background-color: #ebebeb;\n",
              "  color: #000000;\n",
              "}\n",
              "#T_b2c12_row5_col5, #T_b2c12_row5_col6 {\n",
              "  font-size: 6pt;\n",
              "  background-color: #e1e1e1;\n",
              "  color: #000000;\n",
              "}\n",
              "#T_b2c12_row5_col7 {\n",
              "  font-size: 6pt;\n",
              "  background-color: #e5e5e5;\n",
              "  color: #000000;\n",
              "}\n",
              "#T_b2c12_row5_col11 {\n",
              "  font-size: 6pt;\n",
              "  background-color: #f1f1f1;\n",
              "  color: #000000;\n",
              "}\n",
              "#T_b2c12_row5_col12 {\n",
              "  font-size: 6pt;\n",
              "  background-color: #a2a2a2;\n",
              "  color: #f1f1f1;\n",
              "}\n",
              "#T_b2c12_row5_col13 {\n",
              "  font-size: 6pt;\n",
              "  background-color: #0a0a0a;\n",
              "  color: #f1f1f1;\n",
              "}\n",
              "#T_b2c12_row6_col10, #T_b2c12_row14_col16, #T_b2c12_row16_col9 {\n",
              "  font-size: 6pt;\n",
              "  background-color: #e0e0e0;\n",
              "  color: #000000;\n",
              "}\n",
              "#T_b2c12_row6_col11 {\n",
              "  font-size: 6pt;\n",
              "  background-color: #383838;\n",
              "  color: #f1f1f1;\n",
              "}\n",
              "#T_b2c12_row6_col15, #T_b2c12_row12_col7 {\n",
              "  font-size: 6pt;\n",
              "  background-color: #575757;\n",
              "  color: #f1f1f1;\n",
              "}\n",
              "#T_b2c12_row6_col16, #T_b2c12_row7_col15 {\n",
              "  font-size: 6pt;\n",
              "  background-color: #f5f5f5;\n",
              "  color: #000000;\n",
              "}\n",
              "#T_b2c12_row7_col8, #T_b2c12_row16_col8 {\n",
              "  font-size: 6pt;\n",
              "  background-color: #fefefe;\n",
              "  color: #000000;\n",
              "}\n",
              "#T_b2c12_row7_col9, #T_b2c12_row8_col7 {\n",
              "  font-size: 6pt;\n",
              "  background-color: #e9e9e9;\n",
              "  color: #000000;\n",
              "}\n",
              "#T_b2c12_row7_col14 {\n",
              "  font-size: 6pt;\n",
              "  background-color: #393939;\n",
              "  color: #f1f1f1;\n",
              "}\n",
              "#T_b2c12_row8_col6, #T_b2c12_row13_col6 {\n",
              "  font-size: 6pt;\n",
              "  background-color: #fdfdfd;\n",
              "  color: #000000;\n",
              "}\n",
              "#T_b2c12_row8_col8 {\n",
              "  font-size: 6pt;\n",
              "  background-color: #6c6c6c;\n",
              "  color: #f1f1f1;\n",
              "}\n",
              "#T_b2c12_row8_col14 {\n",
              "  font-size: 6pt;\n",
              "  background-color: #1d1d1d;\n",
              "  color: #f1f1f1;\n",
              "}\n",
              "#T_b2c12_row8_col15, #T_b2c12_row11_col14 {\n",
              "  font-size: 6pt;\n",
              "  background-color: #919191;\n",
              "  color: #f1f1f1;\n",
              "}\n",
              "#T_b2c12_row8_col16 {\n",
              "  font-size: 6pt;\n",
              "  background-color: #fbfbfb;\n",
              "  color: #000000;\n",
              "}\n",
              "#T_b2c12_row9_col5 {\n",
              "  font-size: 6pt;\n",
              "  background-color: #7e7e7e;\n",
              "  color: #f1f1f1;\n",
              "}\n",
              "#T_b2c12_row9_col6 {\n",
              "  font-size: 6pt;\n",
              "  background-color: #6e6e6e;\n",
              "  color: #f1f1f1;\n",
              "}\n",
              "#T_b2c12_row9_col16 {\n",
              "  font-size: 6pt;\n",
              "  background-color: #767676;\n",
              "  color: #f1f1f1;\n",
              "}\n",
              "#T_b2c12_row10_col13 {\n",
              "  font-size: 6pt;\n",
              "  background-color: #888888;\n",
              "  color: #f1f1f1;\n",
              "}\n",
              "#T_b2c12_row10_col14 {\n",
              "  font-size: 6pt;\n",
              "  background-color: #212121;\n",
              "  color: #f1f1f1;\n",
              "}\n",
              "#T_b2c12_row10_col16 {\n",
              "  font-size: 6pt;\n",
              "  background-color: #171717;\n",
              "  color: #f1f1f1;\n",
              "}\n",
              "#T_b2c12_row10_col17, #T_b2c12_row11_col10 {\n",
              "  font-size: 6pt;\n",
              "  background-color: #8f8f8f;\n",
              "  color: #f1f1f1;\n",
              "}\n",
              "#T_b2c12_row11_col11 {\n",
              "  font-size: 6pt;\n",
              "  background-color: #cdcdcd;\n",
              "  color: #000000;\n",
              "}\n",
              "#T_b2c12_row12_col5 {\n",
              "  font-size: 6pt;\n",
              "  background-color: #818181;\n",
              "  color: #f1f1f1;\n",
              "}\n",
              "#T_b2c12_row12_col6 {\n",
              "  font-size: 6pt;\n",
              "  background-color: #6f6f6f;\n",
              "  color: #f1f1f1;\n",
              "}\n",
              "#T_b2c12_row12_col8 {\n",
              "  font-size: 6pt;\n",
              "  background-color: #d5d5d5;\n",
              "  color: #000000;\n",
              "}\n",
              "#T_b2c12_row12_col9 {\n",
              "  font-size: 6pt;\n",
              "  background-color: #f9f9f9;\n",
              "  color: #000000;\n",
              "}\n",
              "#T_b2c12_row12_col14 {\n",
              "  font-size: 6pt;\n",
              "  background-color: #232323;\n",
              "  color: #f1f1f1;\n",
              "}\n",
              "#T_b2c12_row13_col7 {\n",
              "  font-size: 6pt;\n",
              "  background-color: #fafafa;\n",
              "  color: #000000;\n",
              "}\n",
              "#T_b2c12_row13_col13, #T_b2c12_row14_col12 {\n",
              "  font-size: 6pt;\n",
              "  background-color: #434343;\n",
              "  color: #f1f1f1;\n",
              "}\n",
              "#T_b2c12_row13_col16 {\n",
              "  font-size: 6pt;\n",
              "  background-color: #6b6b6b;\n",
              "  color: #f1f1f1;\n",
              "}\n",
              "#T_b2c12_row13_col17 {\n",
              "  font-size: 6pt;\n",
              "  background-color: #f2f2f2;\n",
              "  color: #000000;\n",
              "}\n",
              "#T_b2c12_row14_col13 {\n",
              "  font-size: 6pt;\n",
              "  background-color: #080808;\n",
              "  color: #f1f1f1;\n",
              "}\n",
              "#T_b2c12_row14_col15, #T_b2c12_row15_col14, #T_b2c12_row16_col13 {\n",
              "  font-size: 6pt;\n",
              "  background-color: #151515;\n",
              "  color: #f1f1f1;\n",
              "}\n",
              "#T_b2c12_row15_col11 {\n",
              "  font-size: 6pt;\n",
              "  background-color: #858585;\n",
              "  color: #f1f1f1;\n",
              "}\n",
              "#T_b2c12_row15_col15 {\n",
              "  font-size: 6pt;\n",
              "  background-color: #cecece;\n",
              "  color: #000000;\n",
              "}\n",
              "#T_b2c12_row16_col2 {\n",
              "  font-size: 6pt;\n",
              "  background-color: #535353;\n",
              "  color: #f1f1f1;\n",
              "}\n",
              "#T_b2c12_row16_col3 {\n",
              "  font-size: 6pt;\n",
              "  background-color: #848484;\n",
              "  color: #f1f1f1;\n",
              "}\n",
              "#T_b2c12_row16_col10 {\n",
              "  font-size: 6pt;\n",
              "  background-color: #565656;\n",
              "  color: #f1f1f1;\n",
              "}\n",
              "#T_b2c12_row16_col11 {\n",
              "  font-size: 6pt;\n",
              "  background-color: #050505;\n",
              "  color: #f1f1f1;\n",
              "}\n",
              "#T_b2c12_row16_col14 {\n",
              "  font-size: 6pt;\n",
              "  background-color: #7f7f7f;\n",
              "  color: #f1f1f1;\n",
              "}\n",
              "#T_b2c12_row17_col5 {\n",
              "  font-size: 6pt;\n",
              "  background-color: #f8f8f8;\n",
              "  color: #000000;\n",
              "}\n",
              "#T_b2c12_row17_col6 {\n",
              "  font-size: 6pt;\n",
              "  background-color: #fcfcfc;\n",
              "  color: #000000;\n",
              "}\n",
              "#T_b2c12_row17_col7 {\n",
              "  font-size: 6pt;\n",
              "  background-color: #dfdfdf;\n",
              "  color: #000000;\n",
              "}\n",
              "#T_b2c12_row17_col8 {\n",
              "  font-size: 6pt;\n",
              "  background-color: #5f5f5f;\n",
              "  color: #f1f1f1;\n",
              "}\n",
              "#T_b2c12_row17_col12 {\n",
              "  font-size: 6pt;\n",
              "  background-color: #131313;\n",
              "  color: #f1f1f1;\n",
              "}\n",
              "#T_b2c12_row17_col13 {\n",
              "  font-size: 6pt;\n",
              "  background-color: #cfcfcf;\n",
              "  color: #000000;\n",
              "}\n",
              "</style>\n",
              "<table id=\"T_b2c12\" class=\"dataframe\">\n",
              "  <thead>\n",
              "    <tr>\n",
              "      <th class=\"blank level0\" >&nbsp;</th>\n",
              "      <th id=\"T_b2c12_level0_col0\" class=\"col_heading level0 col0\" >0</th>\n",
              "      <th id=\"T_b2c12_level0_col1\" class=\"col_heading level0 col1\" >1</th>\n",
              "      <th id=\"T_b2c12_level0_col2\" class=\"col_heading level0 col2\" >2</th>\n",
              "      <th id=\"T_b2c12_level0_col3\" class=\"col_heading level0 col3\" >3</th>\n",
              "      <th id=\"T_b2c12_level0_col4\" class=\"col_heading level0 col4\" >4</th>\n",
              "      <th id=\"T_b2c12_level0_col5\" class=\"col_heading level0 col5\" >5</th>\n",
              "      <th id=\"T_b2c12_level0_col6\" class=\"col_heading level0 col6\" >6</th>\n",
              "      <th id=\"T_b2c12_level0_col7\" class=\"col_heading level0 col7\" >7</th>\n",
              "      <th id=\"T_b2c12_level0_col8\" class=\"col_heading level0 col8\" >8</th>\n",
              "      <th id=\"T_b2c12_level0_col9\" class=\"col_heading level0 col9\" >9</th>\n",
              "      <th id=\"T_b2c12_level0_col10\" class=\"col_heading level0 col10\" >10</th>\n",
              "      <th id=\"T_b2c12_level0_col11\" class=\"col_heading level0 col11\" >11</th>\n",
              "      <th id=\"T_b2c12_level0_col12\" class=\"col_heading level0 col12\" >12</th>\n",
              "      <th id=\"T_b2c12_level0_col13\" class=\"col_heading level0 col13\" >13</th>\n",
              "      <th id=\"T_b2c12_level0_col14\" class=\"col_heading level0 col14\" >14</th>\n",
              "      <th id=\"T_b2c12_level0_col15\" class=\"col_heading level0 col15\" >15</th>\n",
              "      <th id=\"T_b2c12_level0_col16\" class=\"col_heading level0 col16\" >16</th>\n",
              "      <th id=\"T_b2c12_level0_col17\" class=\"col_heading level0 col17\" >17</th>\n",
              "    </tr>\n",
              "  </thead>\n",
              "  <tbody>\n",
              "    <tr>\n",
              "      <th id=\"T_b2c12_level0_row0\" class=\"row_heading level0 row0\" >0</th>\n",
              "      <td id=\"T_b2c12_row0_col0\" class=\"data row0 col0\" >0</td>\n",
              "      <td id=\"T_b2c12_row0_col1\" class=\"data row0 col1\" >0</td>\n",
              "      <td id=\"T_b2c12_row0_col2\" class=\"data row0 col2\" >0</td>\n",
              "      <td id=\"T_b2c12_row0_col3\" class=\"data row0 col3\" >0</td>\n",
              "      <td id=\"T_b2c12_row0_col4\" class=\"data row0 col4\" >0</td>\n",
              "      <td id=\"T_b2c12_row0_col5\" class=\"data row0 col5\" >0</td>\n",
              "      <td id=\"T_b2c12_row0_col6\" class=\"data row0 col6\" >0</td>\n",
              "      <td id=\"T_b2c12_row0_col7\" class=\"data row0 col7\" >0</td>\n",
              "      <td id=\"T_b2c12_row0_col8\" class=\"data row0 col8\" >0</td>\n",
              "      <td id=\"T_b2c12_row0_col9\" class=\"data row0 col9\" >0</td>\n",
              "      <td id=\"T_b2c12_row0_col10\" class=\"data row0 col10\" >0</td>\n",
              "      <td id=\"T_b2c12_row0_col11\" class=\"data row0 col11\" >0</td>\n",
              "      <td id=\"T_b2c12_row0_col12\" class=\"data row0 col12\" >0</td>\n",
              "      <td id=\"T_b2c12_row0_col13\" class=\"data row0 col13\" >0</td>\n",
              "      <td id=\"T_b2c12_row0_col14\" class=\"data row0 col14\" >0</td>\n",
              "      <td id=\"T_b2c12_row0_col15\" class=\"data row0 col15\" >0</td>\n",
              "      <td id=\"T_b2c12_row0_col16\" class=\"data row0 col16\" >0</td>\n",
              "      <td id=\"T_b2c12_row0_col17\" class=\"data row0 col17\" >0</td>\n",
              "    </tr>\n",
              "    <tr>\n",
              "      <th id=\"T_b2c12_level0_row1\" class=\"row_heading level0 row1\" >1</th>\n",
              "      <td id=\"T_b2c12_row1_col0\" class=\"data row1 col0\" >0</td>\n",
              "      <td id=\"T_b2c12_row1_col1\" class=\"data row1 col1\" >0</td>\n",
              "      <td id=\"T_b2c12_row1_col2\" class=\"data row1 col2\" >0</td>\n",
              "      <td id=\"T_b2c12_row1_col3\" class=\"data row1 col3\" >0</td>\n",
              "      <td id=\"T_b2c12_row1_col4\" class=\"data row1 col4\" >0</td>\n",
              "      <td id=\"T_b2c12_row1_col5\" class=\"data row1 col5\" >0</td>\n",
              "      <td id=\"T_b2c12_row1_col6\" class=\"data row1 col6\" >104</td>\n",
              "      <td id=\"T_b2c12_row1_col7\" class=\"data row1 col7\" >253</td>\n",
              "      <td id=\"T_b2c12_row1_col8\" class=\"data row1 col8\" >253</td>\n",
              "      <td id=\"T_b2c12_row1_col9\" class=\"data row1 col9\" >253</td>\n",
              "      <td id=\"T_b2c12_row1_col10\" class=\"data row1 col10\" >255</td>\n",
              "      <td id=\"T_b2c12_row1_col11\" class=\"data row1 col11\" >253</td>\n",
              "      <td id=\"T_b2c12_row1_col12\" class=\"data row1 col12\" >253</td>\n",
              "      <td id=\"T_b2c12_row1_col13\" class=\"data row1 col13\" >253</td>\n",
              "      <td id=\"T_b2c12_row1_col14\" class=\"data row1 col14\" >218</td>\n",
              "      <td id=\"T_b2c12_row1_col15\" class=\"data row1 col15\" >32</td>\n",
              "      <td id=\"T_b2c12_row1_col16\" class=\"data row1 col16\" >0</td>\n",
              "      <td id=\"T_b2c12_row1_col17\" class=\"data row1 col17\" >0</td>\n",
              "    </tr>\n",
              "    <tr>\n",
              "      <th id=\"T_b2c12_level0_row2\" class=\"row_heading level0 row2\" >2</th>\n",
              "      <td id=\"T_b2c12_row2_col0\" class=\"data row2 col0\" >0</td>\n",
              "      <td id=\"T_b2c12_row2_col1\" class=\"data row2 col1\" >0</td>\n",
              "      <td id=\"T_b2c12_row2_col2\" class=\"data row2 col2\" >0</td>\n",
              "      <td id=\"T_b2c12_row2_col3\" class=\"data row2 col3\" >0</td>\n",
              "      <td id=\"T_b2c12_row2_col4\" class=\"data row2 col4\" >0</td>\n",
              "      <td id=\"T_b2c12_row2_col5\" class=\"data row2 col5\" >178</td>\n",
              "      <td id=\"T_b2c12_row2_col6\" class=\"data row2 col6\" >248</td>\n",
              "      <td id=\"T_b2c12_row2_col7\" class=\"data row2 col7\" >252</td>\n",
              "      <td id=\"T_b2c12_row2_col8\" class=\"data row2 col8\" >252</td>\n",
              "      <td id=\"T_b2c12_row2_col9\" class=\"data row2 col9\" >252</td>\n",
              "      <td id=\"T_b2c12_row2_col10\" class=\"data row2 col10\" >253</td>\n",
              "      <td id=\"T_b2c12_row2_col11\" class=\"data row2 col11\" >252</td>\n",
              "      <td id=\"T_b2c12_row2_col12\" class=\"data row2 col12\" >252</td>\n",
              "      <td id=\"T_b2c12_row2_col13\" class=\"data row2 col13\" >252</td>\n",
              "      <td id=\"T_b2c12_row2_col14\" class=\"data row2 col14\" >252</td>\n",
              "      <td id=\"T_b2c12_row2_col15\" class=\"data row2 col15\" >215</td>\n",
              "      <td id=\"T_b2c12_row2_col16\" class=\"data row2 col16\" >34</td>\n",
              "      <td id=\"T_b2c12_row2_col17\" class=\"data row2 col17\" >0</td>\n",
              "    </tr>\n",
              "    <tr>\n",
              "      <th id=\"T_b2c12_level0_row3\" class=\"row_heading level0 row3\" >3</th>\n",
              "      <td id=\"T_b2c12_row3_col0\" class=\"data row3 col0\" >0</td>\n",
              "      <td id=\"T_b2c12_row3_col1\" class=\"data row3 col1\" >0</td>\n",
              "      <td id=\"T_b2c12_row3_col2\" class=\"data row3 col2\" >0</td>\n",
              "      <td id=\"T_b2c12_row3_col3\" class=\"data row3 col3\" >0</td>\n",
              "      <td id=\"T_b2c12_row3_col4\" class=\"data row3 col4\" >0</td>\n",
              "      <td id=\"T_b2c12_row3_col5\" class=\"data row3 col5\" >186</td>\n",
              "      <td id=\"T_b2c12_row3_col6\" class=\"data row3 col6\" >252</td>\n",
              "      <td id=\"T_b2c12_row3_col7\" class=\"data row3 col7\" >252</td>\n",
              "      <td id=\"T_b2c12_row3_col8\" class=\"data row3 col8\" >252</td>\n",
              "      <td id=\"T_b2c12_row3_col9\" class=\"data row3 col9\" >252</td>\n",
              "      <td id=\"T_b2c12_row3_col10\" class=\"data row3 col10\" >253</td>\n",
              "      <td id=\"T_b2c12_row3_col11\" class=\"data row3 col11\" >252</td>\n",
              "      <td id=\"T_b2c12_row3_col12\" class=\"data row3 col12\" >252</td>\n",
              "      <td id=\"T_b2c12_row3_col13\" class=\"data row3 col13\" >252</td>\n",
              "      <td id=\"T_b2c12_row3_col14\" class=\"data row3 col14\" >252</td>\n",
              "      <td id=\"T_b2c12_row3_col15\" class=\"data row3 col15\" >252</td>\n",
              "      <td id=\"T_b2c12_row3_col16\" class=\"data row3 col16\" >79</td>\n",
              "      <td id=\"T_b2c12_row3_col17\" class=\"data row3 col17\" >0</td>\n",
              "    </tr>\n",
              "    <tr>\n",
              "      <th id=\"T_b2c12_level0_row4\" class=\"row_heading level0 row4\" >4</th>\n",
              "      <td id=\"T_b2c12_row4_col0\" class=\"data row4 col0\" >0</td>\n",
              "      <td id=\"T_b2c12_row4_col1\" class=\"data row4 col1\" >0</td>\n",
              "      <td id=\"T_b2c12_row4_col2\" class=\"data row4 col2\" >0</td>\n",
              "      <td id=\"T_b2c12_row4_col3\" class=\"data row4 col3\" >0</td>\n",
              "      <td id=\"T_b2c12_row4_col4\" class=\"data row4 col4\" >0</td>\n",
              "      <td id=\"T_b2c12_row4_col5\" class=\"data row4 col5\" >186</td>\n",
              "      <td id=\"T_b2c12_row4_col6\" class=\"data row4 col6\" >252</td>\n",
              "      <td id=\"T_b2c12_row4_col7\" class=\"data row4 col7\" >243</td>\n",
              "      <td id=\"T_b2c12_row4_col8\" class=\"data row4 col8\" >172</td>\n",
              "      <td id=\"T_b2c12_row4_col9\" class=\"data row4 col9\" >172</td>\n",
              "      <td id=\"T_b2c12_row4_col10\" class=\"data row4 col10\" >39</td>\n",
              "      <td id=\"T_b2c12_row4_col11\" class=\"data row4 col11\" >39</td>\n",
              "      <td id=\"T_b2c12_row4_col12\" class=\"data row4 col12\" >39</td>\n",
              "      <td id=\"T_b2c12_row4_col13\" class=\"data row4 col13\" >219</td>\n",
              "      <td id=\"T_b2c12_row4_col14\" class=\"data row4 col14\" >252</td>\n",
              "      <td id=\"T_b2c12_row4_col15\" class=\"data row4 col15\" >252</td>\n",
              "      <td id=\"T_b2c12_row4_col16\" class=\"data row4 col16\" >79</td>\n",
              "      <td id=\"T_b2c12_row4_col17\" class=\"data row4 col17\" >0</td>\n",
              "    </tr>\n",
              "    <tr>\n",
              "      <th id=\"T_b2c12_level0_row5\" class=\"row_heading level0 row5\" >5</th>\n",
              "      <td id=\"T_b2c12_row5_col0\" class=\"data row5 col0\" >0</td>\n",
              "      <td id=\"T_b2c12_row5_col1\" class=\"data row5 col1\" >0</td>\n",
              "      <td id=\"T_b2c12_row5_col2\" class=\"data row5 col2\" >0</td>\n",
              "      <td id=\"T_b2c12_row5_col3\" class=\"data row5 col3\" >0</td>\n",
              "      <td id=\"T_b2c12_row5_col4\" class=\"data row5 col4\" >0</td>\n",
              "      <td id=\"T_b2c12_row5_col5\" class=\"data row5 col5\" >39</td>\n",
              "      <td id=\"T_b2c12_row5_col6\" class=\"data row5 col6\" >53</td>\n",
              "      <td id=\"T_b2c12_row5_col7\" class=\"data row5 col7\" >47</td>\n",
              "      <td id=\"T_b2c12_row5_col8\" class=\"data row5 col8\" >0</td>\n",
              "      <td id=\"T_b2c12_row5_col9\" class=\"data row5 col9\" >0</td>\n",
              "      <td id=\"T_b2c12_row5_col10\" class=\"data row5 col10\" >0</td>\n",
              "      <td id=\"T_b2c12_row5_col11\" class=\"data row5 col11\" >29</td>\n",
              "      <td id=\"T_b2c12_row5_col12\" class=\"data row5 col12\" >117</td>\n",
              "      <td id=\"T_b2c12_row5_col13\" class=\"data row5 col13\" >244</td>\n",
              "      <td id=\"T_b2c12_row5_col14\" class=\"data row5 col14\" >252</td>\n",
              "      <td id=\"T_b2c12_row5_col15\" class=\"data row5 col15\" >252</td>\n",
              "      <td id=\"T_b2c12_row5_col16\" class=\"data row5 col16\" >79</td>\n",
              "      <td id=\"T_b2c12_row5_col17\" class=\"data row5 col17\" >0</td>\n",
              "    </tr>\n",
              "    <tr>\n",
              "      <th id=\"T_b2c12_level0_row6\" class=\"row_heading level0 row6\" >6</th>\n",
              "      <td id=\"T_b2c12_row6_col0\" class=\"data row6 col0\" >0</td>\n",
              "      <td id=\"T_b2c12_row6_col1\" class=\"data row6 col1\" >0</td>\n",
              "      <td id=\"T_b2c12_row6_col2\" class=\"data row6 col2\" >0</td>\n",
              "      <td id=\"T_b2c12_row6_col3\" class=\"data row6 col3\" >0</td>\n",
              "      <td id=\"T_b2c12_row6_col4\" class=\"data row6 col4\" >0</td>\n",
              "      <td id=\"T_b2c12_row6_col5\" class=\"data row6 col5\" >0</td>\n",
              "      <td id=\"T_b2c12_row6_col6\" class=\"data row6 col6\" >0</td>\n",
              "      <td id=\"T_b2c12_row6_col7\" class=\"data row6 col7\" >0</td>\n",
              "      <td id=\"T_b2c12_row6_col8\" class=\"data row6 col8\" >0</td>\n",
              "      <td id=\"T_b2c12_row6_col9\" class=\"data row6 col9\" >0</td>\n",
              "      <td id=\"T_b2c12_row6_col10\" class=\"data row6 col10\" >54</td>\n",
              "      <td id=\"T_b2c12_row6_col11\" class=\"data row6 col11\" >208</td>\n",
              "      <td id=\"T_b2c12_row6_col12\" class=\"data row6 col12\" >252</td>\n",
              "      <td id=\"T_b2c12_row6_col13\" class=\"data row6 col13\" >252</td>\n",
              "      <td id=\"T_b2c12_row6_col14\" class=\"data row6 col14\" >252</td>\n",
              "      <td id=\"T_b2c12_row6_col15\" class=\"data row6 col15\" >184</td>\n",
              "      <td id=\"T_b2c12_row6_col16\" class=\"data row6 col16\" >21</td>\n",
              "      <td id=\"T_b2c12_row6_col17\" class=\"data row6 col17\" >0</td>\n",
              "    </tr>\n",
              "    <tr>\n",
              "      <th id=\"T_b2c12_level0_row7\" class=\"row_heading level0 row7\" >7</th>\n",
              "      <td id=\"T_b2c12_row7_col0\" class=\"data row7 col0\" >0</td>\n",
              "      <td id=\"T_b2c12_row7_col1\" class=\"data row7 col1\" >0</td>\n",
              "      <td id=\"T_b2c12_row7_col2\" class=\"data row7 col2\" >0</td>\n",
              "      <td id=\"T_b2c12_row7_col3\" class=\"data row7 col3\" >0</td>\n",
              "      <td id=\"T_b2c12_row7_col4\" class=\"data row7 col4\" >0</td>\n",
              "      <td id=\"T_b2c12_row7_col5\" class=\"data row7 col5\" >0</td>\n",
              "      <td id=\"T_b2c12_row7_col6\" class=\"data row7 col6\" >0</td>\n",
              "      <td id=\"T_b2c12_row7_col7\" class=\"data row7 col7\" >0</td>\n",
              "      <td id=\"T_b2c12_row7_col8\" class=\"data row7 col8\" >3</td>\n",
              "      <td id=\"T_b2c12_row7_col9\" class=\"data row7 col9\" >41</td>\n",
              "      <td id=\"T_b2c12_row7_col10\" class=\"data row7 col10\" >253</td>\n",
              "      <td id=\"T_b2c12_row7_col11\" class=\"data row7 col11\" >252</td>\n",
              "      <td id=\"T_b2c12_row7_col12\" class=\"data row7 col12\" >252</td>\n",
              "      <td id=\"T_b2c12_row7_col13\" class=\"data row7 col13\" >252</td>\n",
              "      <td id=\"T_b2c12_row7_col14\" class=\"data row7 col14\" >206</td>\n",
              "      <td id=\"T_b2c12_row7_col15\" class=\"data row7 col15\" >21</td>\n",
              "      <td id=\"T_b2c12_row7_col16\" class=\"data row7 col16\" >0</td>\n",
              "      <td id=\"T_b2c12_row7_col17\" class=\"data row7 col17\" >0</td>\n",
              "    </tr>\n",
              "    <tr>\n",
              "      <th id=\"T_b2c12_level0_row8\" class=\"row_heading level0 row8\" >8</th>\n",
              "      <td id=\"T_b2c12_row8_col0\" class=\"data row8 col0\" >0</td>\n",
              "      <td id=\"T_b2c12_row8_col1\" class=\"data row8 col1\" >0</td>\n",
              "      <td id=\"T_b2c12_row8_col2\" class=\"data row8 col2\" >0</td>\n",
              "      <td id=\"T_b2c12_row8_col3\" class=\"data row8 col3\" >0</td>\n",
              "      <td id=\"T_b2c12_row8_col4\" class=\"data row8 col4\" >0</td>\n",
              "      <td id=\"T_b2c12_row8_col5\" class=\"data row8 col5\" >0</td>\n",
              "      <td id=\"T_b2c12_row8_col6\" class=\"data row8 col6\" >5</td>\n",
              "      <td id=\"T_b2c12_row8_col7\" class=\"data row8 col7\" >41</td>\n",
              "      <td id=\"T_b2c12_row8_col8\" class=\"data row8 col8\" >165</td>\n",
              "      <td id=\"T_b2c12_row8_col9\" class=\"data row8 col9\" >252</td>\n",
              "      <td id=\"T_b2c12_row8_col10\" class=\"data row8 col10\" >253</td>\n",
              "      <td id=\"T_b2c12_row8_col11\" class=\"data row8 col11\" >252</td>\n",
              "      <td id=\"T_b2c12_row8_col12\" class=\"data row8 col12\" >252</td>\n",
              "      <td id=\"T_b2c12_row8_col13\" class=\"data row8 col13\" >252</td>\n",
              "      <td id=\"T_b2c12_row8_col14\" class=\"data row8 col14\" >227</td>\n",
              "      <td id=\"T_b2c12_row8_col15\" class=\"data row8 col15\" >131</td>\n",
              "      <td id=\"T_b2c12_row8_col16\" class=\"data row8 col16\" >9</td>\n",
              "      <td id=\"T_b2c12_row8_col17\" class=\"data row8 col17\" >0</td>\n",
              "    </tr>\n",
              "    <tr>\n",
              "      <th id=\"T_b2c12_level0_row9\" class=\"row_heading level0 row9\" >9</th>\n",
              "      <td id=\"T_b2c12_row9_col0\" class=\"data row9 col0\" >0</td>\n",
              "      <td id=\"T_b2c12_row9_col1\" class=\"data row9 col1\" >0</td>\n",
              "      <td id=\"T_b2c12_row9_col2\" class=\"data row9 col2\" >0</td>\n",
              "      <td id=\"T_b2c12_row9_col3\" class=\"data row9 col3\" >0</td>\n",
              "      <td id=\"T_b2c12_row9_col4\" class=\"data row9 col4\" >0</td>\n",
              "      <td id=\"T_b2c12_row9_col5\" class=\"data row9 col5\" >109</td>\n",
              "      <td id=\"T_b2c12_row9_col6\" class=\"data row9 col6\" >163</td>\n",
              "      <td id=\"T_b2c12_row9_col7\" class=\"data row9 col7\" >252</td>\n",
              "      <td id=\"T_b2c12_row9_col8\" class=\"data row9 col8\" >252</td>\n",
              "      <td id=\"T_b2c12_row9_col9\" class=\"data row9 col9\" >252</td>\n",
              "      <td id=\"T_b2c12_row9_col10\" class=\"data row9 col10\" >253</td>\n",
              "      <td id=\"T_b2c12_row9_col11\" class=\"data row9 col11\" >252</td>\n",
              "      <td id=\"T_b2c12_row9_col12\" class=\"data row9 col12\" >252</td>\n",
              "      <td id=\"T_b2c12_row9_col13\" class=\"data row9 col13\" >252</td>\n",
              "      <td id=\"T_b2c12_row9_col14\" class=\"data row9 col14\" >252</td>\n",
              "      <td id=\"T_b2c12_row9_col15\" class=\"data row9 col15\" >252</td>\n",
              "      <td id=\"T_b2c12_row9_col16\" class=\"data row9 col16\" >156</td>\n",
              "      <td id=\"T_b2c12_row9_col17\" class=\"data row9 col17\" >0</td>\n",
              "    </tr>\n",
              "    <tr>\n",
              "      <th id=\"T_b2c12_level0_row10\" class=\"row_heading level0 row10\" >10</th>\n",
              "      <td id=\"T_b2c12_row10_col0\" class=\"data row10 col0\" >0</td>\n",
              "      <td id=\"T_b2c12_row10_col1\" class=\"data row10 col1\" >0</td>\n",
              "      <td id=\"T_b2c12_row10_col2\" class=\"data row10 col2\" >0</td>\n",
              "      <td id=\"T_b2c12_row10_col3\" class=\"data row10 col3\" >0</td>\n",
              "      <td id=\"T_b2c12_row10_col4\" class=\"data row10 col4\" >0</td>\n",
              "      <td id=\"T_b2c12_row10_col5\" class=\"data row10 col5\" >186</td>\n",
              "      <td id=\"T_b2c12_row10_col6\" class=\"data row10 col6\" >252</td>\n",
              "      <td id=\"T_b2c12_row10_col7\" class=\"data row10 col7\" >252</td>\n",
              "      <td id=\"T_b2c12_row10_col8\" class=\"data row10 col8\" >252</td>\n",
              "      <td id=\"T_b2c12_row10_col9\" class=\"data row10 col9\" >252</td>\n",
              "      <td id=\"T_b2c12_row10_col10\" class=\"data row10 col10\" >253</td>\n",
              "      <td id=\"T_b2c12_row10_col11\" class=\"data row10 col11\" >252</td>\n",
              "      <td id=\"T_b2c12_row10_col12\" class=\"data row10 col12\" >252</td>\n",
              "      <td id=\"T_b2c12_row10_col13\" class=\"data row10 col13\" >139</td>\n",
              "      <td id=\"T_b2c12_row10_col14\" class=\"data row10 col14\" >224</td>\n",
              "      <td id=\"T_b2c12_row10_col15\" class=\"data row10 col15\" >252</td>\n",
              "      <td id=\"T_b2c12_row10_col16\" class=\"data row10 col16\" >233</td>\n",
              "      <td id=\"T_b2c12_row10_col17\" class=\"data row10 col17\" >49</td>\n",
              "    </tr>\n",
              "    <tr>\n",
              "      <th id=\"T_b2c12_level0_row11\" class=\"row_heading level0 row11\" >11</th>\n",
              "      <td id=\"T_b2c12_row11_col0\" class=\"data row11 col0\" >0</td>\n",
              "      <td id=\"T_b2c12_row11_col1\" class=\"data row11 col1\" >0</td>\n",
              "      <td id=\"T_b2c12_row11_col2\" class=\"data row11 col2\" >0</td>\n",
              "      <td id=\"T_b2c12_row11_col3\" class=\"data row11 col3\" >0</td>\n",
              "      <td id=\"T_b2c12_row11_col4\" class=\"data row11 col4\" >0</td>\n",
              "      <td id=\"T_b2c12_row11_col5\" class=\"data row11 col5\" >187</td>\n",
              "      <td id=\"T_b2c12_row11_col6\" class=\"data row11 col6\" >253</td>\n",
              "      <td id=\"T_b2c12_row11_col7\" class=\"data row11 col7\" >253</td>\n",
              "      <td id=\"T_b2c12_row11_col8\" class=\"data row11 col8\" >253</td>\n",
              "      <td id=\"T_b2c12_row11_col9\" class=\"data row11 col9\" >253</td>\n",
              "      <td id=\"T_b2c12_row11_col10\" class=\"data row11 col10\" >134</td>\n",
              "      <td id=\"T_b2c12_row11_col11\" class=\"data row11 col11\" >77</td>\n",
              "      <td id=\"T_b2c12_row11_col12\" class=\"data row11 col12\" >0</td>\n",
              "      <td id=\"T_b2c12_row11_col13\" class=\"data row11 col13\" >0</td>\n",
              "      <td id=\"T_b2c12_row11_col14\" class=\"data row11 col14\" >130</td>\n",
              "      <td id=\"T_b2c12_row11_col15\" class=\"data row11 col15\" >253</td>\n",
              "      <td id=\"T_b2c12_row11_col16\" class=\"data row11 col16\" >253</td>\n",
              "      <td id=\"T_b2c12_row11_col17\" class=\"data row11 col17\" >93</td>\n",
              "    </tr>\n",
              "    <tr>\n",
              "      <th id=\"T_b2c12_level0_row12\" class=\"row_heading level0 row12\" >12</th>\n",
              "      <td id=\"T_b2c12_row12_col0\" class=\"data row12 col0\" >0</td>\n",
              "      <td id=\"T_b2c12_row12_col1\" class=\"data row12 col1\" >0</td>\n",
              "      <td id=\"T_b2c12_row12_col2\" class=\"data row12 col2\" >0</td>\n",
              "      <td id=\"T_b2c12_row12_col3\" class=\"data row12 col3\" >0</td>\n",
              "      <td id=\"T_b2c12_row12_col4\" class=\"data row12 col4\" >0</td>\n",
              "      <td id=\"T_b2c12_row12_col5\" class=\"data row12 col5\" >108</td>\n",
              "      <td id=\"T_b2c12_row12_col6\" class=\"data row12 col6\" >162</td>\n",
              "      <td id=\"T_b2c12_row12_col7\" class=\"data row12 col7\" >184</td>\n",
              "      <td id=\"T_b2c12_row12_col8\" class=\"data row12 col8\" >68</td>\n",
              "      <td id=\"T_b2c12_row12_col9\" class=\"data row12 col9\" >13</td>\n",
              "      <td id=\"T_b2c12_row12_col10\" class=\"data row12 col10\" >0</td>\n",
              "      <td id=\"T_b2c12_row12_col11\" class=\"data row12 col11\" >0</td>\n",
              "      <td id=\"T_b2c12_row12_col12\" class=\"data row12 col12\" >0</td>\n",
              "      <td id=\"T_b2c12_row12_col13\" class=\"data row12 col13\" >34</td>\n",
              "      <td id=\"T_b2c12_row12_col14\" class=\"data row12 col14\" >222</td>\n",
              "      <td id=\"T_b2c12_row12_col15\" class=\"data row12 col15\" >252</td>\n",
              "      <td id=\"T_b2c12_row12_col16\" class=\"data row12 col16\" >252</td>\n",
              "      <td id=\"T_b2c12_row12_col17\" class=\"data row12 col17\" >93</td>\n",
              "    </tr>\n",
              "    <tr>\n",
              "      <th id=\"T_b2c12_level0_row13\" class=\"row_heading level0 row13\" >13</th>\n",
              "      <td id=\"T_b2c12_row13_col0\" class=\"data row13 col0\" >0</td>\n",
              "      <td id=\"T_b2c12_row13_col1\" class=\"data row13 col1\" >0</td>\n",
              "      <td id=\"T_b2c12_row13_col2\" class=\"data row13 col2\" >0</td>\n",
              "      <td id=\"T_b2c12_row13_col3\" class=\"data row13 col3\" >0</td>\n",
              "      <td id=\"T_b2c12_row13_col4\" class=\"data row13 col4\" >0</td>\n",
              "      <td id=\"T_b2c12_row13_col5\" class=\"data row13 col5\" >0</td>\n",
              "      <td id=\"T_b2c12_row13_col6\" class=\"data row13 col6\" >5</td>\n",
              "      <td id=\"T_b2c12_row13_col7\" class=\"data row13 col7\" >10</td>\n",
              "      <td id=\"T_b2c12_row13_col8\" class=\"data row13 col8\" >0</td>\n",
              "      <td id=\"T_b2c12_row13_col9\" class=\"data row13 col9\" >0</td>\n",
              "      <td id=\"T_b2c12_row13_col10\" class=\"data row13 col10\" >0</td>\n",
              "      <td id=\"T_b2c12_row13_col11\" class=\"data row13 col11\" >0</td>\n",
              "      <td id=\"T_b2c12_row13_col12\" class=\"data row13 col12\" >0</td>\n",
              "      <td id=\"T_b2c12_row13_col13\" class=\"data row13 col13\" >200</td>\n",
              "      <td id=\"T_b2c12_row13_col14\" class=\"data row13 col14\" >252</td>\n",
              "      <td id=\"T_b2c12_row13_col15\" class=\"data row13 col15\" >252</td>\n",
              "      <td id=\"T_b2c12_row13_col16\" class=\"data row13 col16\" >166</td>\n",
              "      <td id=\"T_b2c12_row13_col17\" class=\"data row13 col17\" >10</td>\n",
              "    </tr>\n",
              "    <tr>\n",
              "      <th id=\"T_b2c12_level0_row14\" class=\"row_heading level0 row14\" >14</th>\n",
              "      <td id=\"T_b2c12_row14_col0\" class=\"data row14 col0\" >0</td>\n",
              "      <td id=\"T_b2c12_row14_col1\" class=\"data row14 col1\" >0</td>\n",
              "      <td id=\"T_b2c12_row14_col2\" class=\"data row14 col2\" >0</td>\n",
              "      <td id=\"T_b2c12_row14_col3\" class=\"data row14 col3\" >0</td>\n",
              "      <td id=\"T_b2c12_row14_col4\" class=\"data row14 col4\" >0</td>\n",
              "      <td id=\"T_b2c12_row14_col5\" class=\"data row14 col5\" >0</td>\n",
              "      <td id=\"T_b2c12_row14_col6\" class=\"data row14 col6\" >0</td>\n",
              "      <td id=\"T_b2c12_row14_col7\" class=\"data row14 col7\" >0</td>\n",
              "      <td id=\"T_b2c12_row14_col8\" class=\"data row14 col8\" >0</td>\n",
              "      <td id=\"T_b2c12_row14_col9\" class=\"data row14 col9\" >0</td>\n",
              "      <td id=\"T_b2c12_row14_col10\" class=\"data row14 col10\" >0</td>\n",
              "      <td id=\"T_b2c12_row14_col11\" class=\"data row14 col11\" >34</td>\n",
              "      <td id=\"T_b2c12_row14_col12\" class=\"data row14 col12\" >200</td>\n",
              "      <td id=\"T_b2c12_row14_col13\" class=\"data row14 col13\" >246</td>\n",
              "      <td id=\"T_b2c12_row14_col14\" class=\"data row14 col14\" >252</td>\n",
              "      <td id=\"T_b2c12_row14_col15\" class=\"data row14 col15\" >235</td>\n",
              "      <td id=\"T_b2c12_row14_col16\" class=\"data row14 col16\" >54</td>\n",
              "      <td id=\"T_b2c12_row14_col17\" class=\"data row14 col17\" >0</td>\n",
              "    </tr>\n",
              "    <tr>\n",
              "      <th id=\"T_b2c12_level0_row15\" class=\"row_heading level0 row15\" >15</th>\n",
              "      <td id=\"T_b2c12_row15_col0\" class=\"data row15 col0\" >0</td>\n",
              "      <td id=\"T_b2c12_row15_col1\" class=\"data row15 col1\" >0</td>\n",
              "      <td id=\"T_b2c12_row15_col2\" class=\"data row15 col2\" >0</td>\n",
              "      <td id=\"T_b2c12_row15_col3\" class=\"data row15 col3\" >0</td>\n",
              "      <td id=\"T_b2c12_row15_col4\" class=\"data row15 col4\" >0</td>\n",
              "      <td id=\"T_b2c12_row15_col5\" class=\"data row15 col5\" >0</td>\n",
              "      <td id=\"T_b2c12_row15_col6\" class=\"data row15 col6\" >0</td>\n",
              "      <td id=\"T_b2c12_row15_col7\" class=\"data row15 col7\" >0</td>\n",
              "      <td id=\"T_b2c12_row15_col8\" class=\"data row15 col8\" >0</td>\n",
              "      <td id=\"T_b2c12_row15_col9\" class=\"data row15 col9\" >0</td>\n",
              "      <td id=\"T_b2c12_row15_col10\" class=\"data row15 col10\" >0</td>\n",
              "      <td id=\"T_b2c12_row15_col11\" class=\"data row15 col11\" >142</td>\n",
              "      <td id=\"T_b2c12_row15_col12\" class=\"data row15 col12\" >252</td>\n",
              "      <td id=\"T_b2c12_row15_col13\" class=\"data row15 col13\" >252</td>\n",
              "      <td id=\"T_b2c12_row15_col14\" class=\"data row15 col14\" >234</td>\n",
              "      <td id=\"T_b2c12_row15_col15\" class=\"data row15 col15\" >76</td>\n",
              "      <td id=\"T_b2c12_row15_col16\" class=\"data row15 col16\" >0</td>\n",
              "      <td id=\"T_b2c12_row15_col17\" class=\"data row15 col17\" >0</td>\n",
              "    </tr>\n",
              "    <tr>\n",
              "      <th id=\"T_b2c12_level0_row16\" class=\"row_heading level0 row16\" >16</th>\n",
              "      <td id=\"T_b2c12_row16_col0\" class=\"data row16 col0\" >0</td>\n",
              "      <td id=\"T_b2c12_row16_col1\" class=\"data row16 col1\" >0</td>\n",
              "      <td id=\"T_b2c12_row16_col2\" class=\"data row16 col2\" >168</td>\n",
              "      <td id=\"T_b2c12_row16_col3\" class=\"data row16 col3\" >128</td>\n",
              "      <td id=\"T_b2c12_row16_col4\" class=\"data row16 col4\" >0</td>\n",
              "      <td id=\"T_b2c12_row16_col5\" class=\"data row16 col5\" >0</td>\n",
              "      <td id=\"T_b2c12_row16_col6\" class=\"data row16 col6\" >0</td>\n",
              "      <td id=\"T_b2c12_row16_col7\" class=\"data row16 col7\" >0</td>\n",
              "      <td id=\"T_b2c12_row16_col8\" class=\"data row16 col8\" >3</td>\n",
              "      <td id=\"T_b2c12_row16_col9\" class=\"data row16 col9\" >54</td>\n",
              "      <td id=\"T_b2c12_row16_col10\" class=\"data row16 col10\" >187</td>\n",
              "      <td id=\"T_b2c12_row16_col11\" class=\"data row16 col11\" >249</td>\n",
              "      <td id=\"T_b2c12_row16_col12\" class=\"data row16 col12\" >252</td>\n",
              "      <td id=\"T_b2c12_row16_col13\" class=\"data row16 col13\" >235</td>\n",
              "      <td id=\"T_b2c12_row16_col14\" class=\"data row16 col14\" >146</td>\n",
              "      <td id=\"T_b2c12_row16_col15\" class=\"data row16 col15\" >0</td>\n",
              "      <td id=\"T_b2c12_row16_col16\" class=\"data row16 col16\" >0</td>\n",
              "      <td id=\"T_b2c12_row16_col17\" class=\"data row16 col17\" >0</td>\n",
              "    </tr>\n",
              "    <tr>\n",
              "      <th id=\"T_b2c12_level0_row17\" class=\"row_heading level0 row17\" >17</th>\n",
              "      <td id=\"T_b2c12_row17_col0\" class=\"data row17 col0\" >0</td>\n",
              "      <td id=\"T_b2c12_row17_col1\" class=\"data row17 col1\" >0</td>\n",
              "      <td id=\"T_b2c12_row17_col2\" class=\"data row17 col2\" >226</td>\n",
              "      <td id=\"T_b2c12_row17_col3\" class=\"data row17 col3\" >227</td>\n",
              "      <td id=\"T_b2c12_row17_col4\" class=\"data row17 col4\" >138</td>\n",
              "      <td id=\"T_b2c12_row17_col5\" class=\"data row17 col5\" >11</td>\n",
              "      <td id=\"T_b2c12_row17_col6\" class=\"data row17 col6\" >7</td>\n",
              "      <td id=\"T_b2c12_row17_col7\" class=\"data row17 col7\" >55</td>\n",
              "      <td id=\"T_b2c12_row17_col8\" class=\"data row17 col8\" >177</td>\n",
              "      <td id=\"T_b2c12_row17_col9\" class=\"data row17 col9\" >252</td>\n",
              "      <td id=\"T_b2c12_row17_col10\" class=\"data row17 col10\" >253</td>\n",
              "      <td id=\"T_b2c12_row17_col11\" class=\"data row17 col11\" >252</td>\n",
              "      <td id=\"T_b2c12_row17_col12\" class=\"data row17 col12\" >237</td>\n",
              "      <td id=\"T_b2c12_row17_col13\" class=\"data row17 col13\" >75</td>\n",
              "      <td id=\"T_b2c12_row17_col14\" class=\"data row17 col14\" >0</td>\n",
              "      <td id=\"T_b2c12_row17_col15\" class=\"data row17 col15\" >0</td>\n",
              "      <td id=\"T_b2c12_row17_col16\" class=\"data row17 col16\" >0</td>\n",
              "      <td id=\"T_b2c12_row17_col17\" class=\"data row17 col17\" >0</td>\n",
              "    </tr>\n",
              "  </tbody>\n",
              "</table>\n"
            ]
          },
          "metadata": {},
          "execution_count": 6
        }
      ]
    },
    {
      "cell_type": "code",
      "source": [
        "from google.colab import drive\n",
        "drive.mount('/content/drive')"
      ],
      "metadata": {
        "colab": {
          "base_uri": "https://localhost:8080/"
        },
        "id": "09tcM-LXs7kl",
        "outputId": "34624a5e-5c3d-428d-b09f-1adb2396a451"
      },
      "execution_count": 7,
      "outputs": [
        {
          "output_type": "stream",
          "name": "stdout",
          "text": [
            "Mounted at /content/drive\n"
          ]
        }
      ]
    },
    {
      "cell_type": "markdown",
      "source": [
        "# Pixels similarity."
      ],
      "metadata": {
        "id": "vifwrH9Sdqu1"
      }
    },
    {
      "cell_type": "code",
      "source": [
        "three_tensors = [tensor(Image.open(i)) for i in threes]\n",
        "seven_tensors = [tensor(Image.open(i)) for i in sevens]\n",
        "len(three_tensors), len(seven_tensors)"
      ],
      "metadata": {
        "colab": {
          "base_uri": "https://localhost:8080/"
        },
        "id": "bNpVr_W1c1Tk",
        "outputId": "22049452-d808-4c35-bd85-624a9efc3406"
      },
      "execution_count": 8,
      "outputs": [
        {
          "output_type": "execute_result",
          "data": {
            "text/plain": [
              "(6131, 6265)"
            ]
          },
          "metadata": {},
          "execution_count": 8
        }
      ]
    },
    {
      "cell_type": "code",
      "source": [
        "show_image(three_tensors[8])"
      ],
      "metadata": {
        "colab": {
          "base_uri": "https://localhost:8080/",
          "height": 131
        },
        "id": "hD2l7l3ReMuM",
        "outputId": "97abaade-e985-4b78-a38f-9064e20f76e2"
      },
      "execution_count": 9,
      "outputs": [
        {
          "output_type": "execute_result",
          "data": {
            "text/plain": [
              "<Axes: >"
            ]
          },
          "metadata": {},
          "execution_count": 9
        },
        {
          "output_type": "display_data",
          "data": {
            "text/plain": [
              "<Figure size 100x100 with 1 Axes>"
            ],
            "image/png": "[encoded data removed]"
          },
          "metadata": {}
        }
      ]
    },
    {
      "cell_type": "markdown",
      "source": [
        "# Stacking"
      ],
      "metadata": {
        "id": "mQ4kaJqpD_rT"
      }
    },
    {
      "cell_type": "code",
      "source": [
        "stacked_threes = torch.stack(three_tensors).float()/255\n",
        "stacked_sevens = torch.stack(seven_tensors).float()/255\n",
        "stacked_threes.shape, stacked_sevens.shape"
      ],
      "metadata": {
        "colab": {
          "base_uri": "https://localhost:8080/"
        },
        "id": "EfRa0p0cAVHq",
        "outputId": "88ce3cd4-7e57-4f95-9118-3cf8749b5700"
      },
      "execution_count": 10,
      "outputs": [
        {
          "output_type": "execute_result",
          "data": {
            "text/plain": [
              "(torch.Size([6131, 28, 28]), torch.Size([6265, 28, 28]))"
            ]
          },
          "metadata": {},
          "execution_count": 10
        }
      ]
    },
    {
      "cell_type": "code",
      "source": [
        "mean3 = stacked_threes.mean(0)\n",
        "mean7 = stacked_sevens.mean(0)\n",
        "\n",
        "s_3 = show_image(mean3)\n",
        "s_7 = show_image(mean7)"
      ],
      "metadata": {
        "colab": {
          "base_uri": "https://localhost:8080/",
          "height": 211
        },
        "id": "MuQk-KVAIe1H",
        "outputId": "6b7b0719-17c4-4237-96c4-472ca6bb9a83"
      },
      "execution_count": 11,
      "outputs": [
        {
          "output_type": "display_data",
          "data": {
            "text/plain": [
              "<Figure size 100x100 with 1 Axes>"
            ],
            "image/png": "[encoded data removed]"
          },
          "metadata": {}
        },
        {
          "output_type": "display_data",
          "data": {
            "text/plain": [
              "<Figure size 100x100 with 1 Axes>"
            ],
            "image/png": "[encoded data removed]"
          },
          "metadata": {}
        }
      ]
    },
    {
      "cell_type": "code",
      "source": [
        "s_3 = stacked_threes[1]\n",
        "s_7 = stacked_sevens[1]\n",
        "show_image(s_3), show_image(s_7)"
      ],
      "metadata": {
        "colab": {
          "base_uri": "https://localhost:8080/",
          "height": 228
        },
        "id": "8bfOSQAIB8BE",
        "outputId": "184b3a60-8532-48c9-fbf0-af9e4209b780"
      },
      "execution_count": 18,
      "outputs": [
        {
          "output_type": "execute_result",
          "data": {
            "text/plain": [
              "(<Axes: >, <Axes: >)"
            ]
          },
          "metadata": {},
          "execution_count": 18
        },
        {
          "output_type": "display_data",
          "data": {
            "text/plain": [
              "<Figure size 100x100 with 1 Axes>"
            ],
            "image/png": "[encoded data removed]"
          },
          "metadata": {}
        },
        {
          "output_type": "display_data",
          "data": {
            "text/plain": [
              "<Figure size 100x100 with 1 Axes>"
            ],
            "image/png": "[encoded data removed]"
          },
          "metadata": {}
        }
      ]
    },
    {
      "cell_type": "markdown",
      "source": [
        "* Mean absolute difference (error) MAE or L1 norm\n",
        "* Root Mean Squared Error RMSE or L2 norm\n",
        "\n",
        "\n",
        "\n"
      ],
      "metadata": {
        "id": "HqzmGqrSQr8O"
      }
    },
    {
      "cell_type": "code",
      "source": [
        "# MAE\n",
        "mae = (s_3-mean3).abs().mean()\n",
        "\n",
        "\n",
        "\n",
        "#RMSE\n",
        "rmse = (s_3-mean3).pow(2).mean().sqrt()\n",
        "mae, rmse"
      ],
      "metadata": {
        "colab": {
          "base_uri": "https://localhost:8080/"
        },
        "id": "OFlkJTPjEsgW",
        "outputId": "a004a5ac-34fb-4e2f-84f5-3ba1e20e8113"
      },
      "execution_count": 24,
      "outputs": [
        {
          "output_type": "execute_result",
          "data": {
            "text/plain": [
              "(tensor(0.1114), tensor(0.2021))"
            ]
          },
          "metadata": {},
          "execution_count": 24
        }
      ]
    },
    {
      "cell_type": "code",
      "source": [
        "# MAE\n",
        "mae = (s_3-mean7).abs().mean()\n",
        "\n",
        "\n",
        "\n",
        "#RMSE\n",
        "rmse = (s_3-mean7).pow(2).mean().sqrt()\n",
        "mae, rmse"
      ],
      "metadata": {
        "colab": {
          "base_uri": "https://localhost:8080/"
        },
        "id": "ZN7dNgHxQIM7",
        "outputId": "a711a93d-c84b-4fb6-8bab-f56c8dc193da"
      },
      "execution_count": 23,
      "outputs": [
        {
          "output_type": "execute_result",
          "data": {
            "text/plain": [
              "(tensor(0.1586), tensor(0.3021))"
            ]
          },
          "metadata": {},
          "execution_count": 23
        }
      ]
    },
    {
      "cell_type": "code",
      "source": [],
      "metadata": {
        "id": "JWAj1T3irSTP"
      },
      "execution_count": null,
      "outputs": []
    }
  ]
}