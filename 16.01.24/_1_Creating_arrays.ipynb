{
  "nbformat": 4,
  "nbformat_minor": 0,
  "metadata": {
    "colab": {
      "provenance": []
    },
    "kernelspec": {
      "name": "python3",
      "display_name": "Python 3"
    },
    "language_info": {
      "name": "python"
    }
  },
  "cells": [
    {
      "cell_type": "code",
      "execution_count": 1,
      "metadata": {
        "id": "TBKu4L6aowMP"
      },
      "outputs": [],
      "source": [
        "import numpy as np"
      ]
    },
    {
      "cell_type": "code",
      "source": [
        "my_list = list(range(100000)) # python list 0~99999 --> Normal\n",
        "my_array = np.array(range(100000)) # numpy array(massiv) 0~99999) --> vectorized"
      ],
      "metadata": {
        "id": "x3_xmXCro7ZT"
      },
      "execution_count": 2,
      "outputs": []
    },
    {
      "cell_type": "code",
      "source": [
        "%time for _ in range(10): [x*2 for x in my_list] # normal"
      ],
      "metadata": {
        "colab": {
          "base_uri": "https://localhost:8080/"
        },
        "id": "sM4XMakdqsfD",
        "outputId": "ab6560ca-e9c1-4cf2-ae02-d23eb8ca60be"
      },
      "execution_count": 3,
      "outputs": [
        {
          "output_type": "stream",
          "name": "stdout",
          "text": [
            "CPU times: user 76.7 ms, sys: 7.85 ms, total: 84.6 ms\n",
            "Wall time: 88.1 ms\n"
          ]
        }
      ]
    },
    {
      "cell_type": "code",
      "source": [
        "%time for _ in range(10): my_array*2 # vectorized"
      ],
      "metadata": {
        "colab": {
          "base_uri": "https://localhost:8080/"
        },
        "id": "L8SWrUaCrEho",
        "outputId": "dae5a194-9f37-4d11-9c8d-8e9105c57a6c"
      },
      "execution_count": 4,
      "outputs": [
        {
          "output_type": "stream",
          "name": "stdout",
          "text": [
            "CPU times: user 2.65 ms, sys: 0 ns, total: 2.65 ms\n",
            "Wall time: 6.6 ms\n"
          ]
        }
      ]
    },
    {
      "cell_type": "code",
      "source": [
        "88.1/6.6\n"
      ],
      "metadata": {
        "colab": {
          "base_uri": "https://localhost:8080/"
        },
        "id": "3cHBlJWzrbA_",
        "outputId": "5ea0df3d-15ba-43c5-8a5c-8d7d66409ef6"
      },
      "execution_count": 6,
      "outputs": [
        {
          "output_type": "execute_result",
          "data": {
            "text/plain": [
              "13.348484848484848"
            ]
          },
          "metadata": {},
          "execution_count": 6
        }
      ]
    },
    {
      "cell_type": "code",
      "source": [
        "data1 = [3.5, 5, 6, 2] #list\n",
        "arr1 = np.array(data1) #array1"
      ],
      "metadata": {
        "id": "OmrA34XHrj3X"
      },
      "execution_count": 7,
      "outputs": []
    },
    {
      "cell_type": "code",
      "source": [
        "arr1"
      ],
      "metadata": {
        "colab": {
          "base_uri": "https://localhost:8080/"
        },
        "id": "as2Toa_-vxA2",
        "outputId": "638cc219-2912-4219-ed22-b49d6eb3f9f0"
      },
      "execution_count": 8,
      "outputs": [
        {
          "output_type": "execute_result",
          "data": {
            "text/plain": [
              "array([3.5, 5. , 6. , 2. ])"
            ]
          },
          "metadata": {},
          "execution_count": 8
        }
      ]
    },
    {
      "cell_type": "code",
      "source": [
        "data2 = (4, 5, 3.2, 7) #tuple\n",
        "arr2= np.array(data2)\n"
      ],
      "metadata": {
        "id": "e0BnkJiWvuve"
      },
      "execution_count": 9,
      "outputs": []
    },
    {
      "cell_type": "code",
      "source": [
        "arr2"
      ],
      "metadata": {
        "colab": {
          "base_uri": "https://localhost:8080/"
        },
        "id": "LwSfbaqGwBLE",
        "outputId": "3fe1b9f6-414f-4af4-edd2-7635fef54d23"
      },
      "execution_count": 10,
      "outputs": [
        {
          "output_type": "execute_result",
          "data": {
            "text/plain": [
              "array([4. , 5. , 3.2, 7. ])"
            ]
          },
          "metadata": {},
          "execution_count": 10
        }
      ]
    },
    {
      "cell_type": "markdown",
      "source": [
        "# Massiv size"
      ],
      "metadata": {
        "id": "nqGgNJD2wKSS"
      }
    },
    {
      "cell_type": "code",
      "source": [
        "arr1.ndim # size of array1"
      ],
      "metadata": {
        "colab": {
          "base_uri": "https://localhost:8080/"
        },
        "id": "sVypwmYcwCTk",
        "outputId": "394b9fe7-03f8-4784-d962-748ca188c9e8"
      },
      "execution_count": 12,
      "outputs": [
        {
          "output_type": "execute_result",
          "data": {
            "text/plain": [
              "1"
            ]
          },
          "metadata": {},
          "execution_count": 12
        }
      ]
    },
    {
      "cell_type": "code",
      "source": [
        "arr2.ndim # size of array2"
      ],
      "metadata": {
        "colab": {
          "base_uri": "https://localhost:8080/"
        },
        "id": "WhQwkIF2wWoL",
        "outputId": "1fe8e646-0f57-46a0-e9bc-1543edbc7729"
      },
      "execution_count": 13,
      "outputs": [
        {
          "output_type": "execute_result",
          "data": {
            "text/plain": [
              "1"
            ]
          },
          "metadata": {},
          "execution_count": 13
        }
      ]
    },
    {
      "cell_type": "markdown",
      "source": [
        "# array of two or more"
      ],
      "metadata": {
        "id": "nllC0KhRwu6W"
      }
    },
    {
      "cell_type": "code",
      "source": [
        "data3 = [[1, 2, 3, 4], [5, 6, 7, 8]] #nested list\n",
        "arr3 = np.array(data3) #array3"
      ],
      "metadata": {
        "id": "UZLtD2wRxB1T"
      },
      "execution_count": 15,
      "outputs": []
    },
    {
      "cell_type": "code",
      "source": [
        "arr3.ndim # size of arr3"
      ],
      "metadata": {
        "colab": {
          "base_uri": "https://localhost:8080/"
        },
        "id": "jQJelrhrxkCB",
        "outputId": "ea05f921-95ad-4f8f-e501-23f24eafd941"
      },
      "execution_count": 17,
      "outputs": [
        {
          "output_type": "execute_result",
          "data": {
            "text/plain": [
              "2"
            ]
          },
          "metadata": {},
          "execution_count": 17
        }
      ]
    },
    {
      "cell_type": "markdown",
      "source": [
        "# three-dimensional arrays."
      ],
      "metadata": {
        "id": "gd4hHDV8zZjL"
      }
    },
    {
      "cell_type": "code",
      "source": [
        "data4 = [[[1, 2, 3, 4], [5, 6, 7, 8], [9, 10, 11, 12]], [[1, 2, 3, 4], [5, 6, 7, 8], [9, 10, 11, 12]]]\n",
        "arr4 = np.array(data4) #array4"
      ],
      "metadata": {
        "id": "HjA0f58Vxmxh"
      },
      "execution_count": 21,
      "outputs": []
    },
    {
      "cell_type": "code",
      "source": [
        "arr4.ndim"
      ],
      "metadata": {
        "colab": {
          "base_uri": "https://localhost:8080/"
        },
        "id": "4Hk51wApy4NW",
        "outputId": "53921f83-24a1-4834-eed5-e4f3998fc979"
      },
      "execution_count": 22,
      "outputs": [
        {
          "output_type": "execute_result",
          "data": {
            "text/plain": [
              "3"
            ]
          },
          "metadata": {},
          "execution_count": 22
        }
      ]
    },
    {
      "cell_type": "markdown",
      "source": [
        "# shape, size methods"
      ],
      "metadata": {
        "id": "oBCcXS19zHPd"
      }
    },
    {
      "cell_type": "code",
      "source": [
        "arr4.shape # show number of row and columns"
      ],
      "metadata": {
        "colab": {
          "base_uri": "https://localhost:8080/"
        },
        "id": "RztE3QYky6SW",
        "outputId": "ec94b407-462b-4c3b-cacb-b1c02b478406"
      },
      "execution_count": 23,
      "outputs": [
        {
          "output_type": "execute_result",
          "data": {
            "text/plain": [
              "(2, 3, 4)"
            ]
          },
          "metadata": {},
          "execution_count": 23
        }
      ]
    },
    {
      "cell_type": "code",
      "source": [
        "arr4.size"
      ],
      "metadata": {
        "colab": {
          "base_uri": "https://localhost:8080/"
        },
        "id": "zZyT1MJU1XCx",
        "outputId": "bf376c65-3303-44eb-c05e-c3b623ef4f7d"
      },
      "execution_count": 25,
      "outputs": [
        {
          "output_type": "execute_result",
          "data": {
            "text/plain": [
              "24"
            ]
          },
          "metadata": {},
          "execution_count": 25
        }
      ]
    },
    {
      "cell_type": "markdown",
      "source": [
        "# Another method of creating an n-dimensional array.\n",
        "\n",
        "1.   zeros\n",
        "2.   ones\n",
        "3.   arange\n",
        "\n"
      ],
      "metadata": {
        "id": "2hecVvzL1eJJ"
      }
    },
    {
      "cell_type": "code",
      "source": [
        "arr5 = np.zeros(shape =(2, 4)) # All elements are 0, 2x4 dimensional array\n",
        "arr5"
      ],
      "metadata": {
        "colab": {
          "base_uri": "https://localhost:8080/"
        },
        "id": "JiZalMgj1P6S",
        "outputId": "57743dd1-0ef9-41dc-97bf-e7a8348e3ca7"
      },
      "execution_count": 28,
      "outputs": [
        {
          "output_type": "execute_result",
          "data": {
            "text/plain": [
              "array([[0., 0., 0., 0.],\n",
              "       [0., 0., 0., 0.]])"
            ]
          },
          "metadata": {},
          "execution_count": 28
        }
      ]
    },
    {
      "cell_type": "code",
      "source": [
        "arr6 = np.ones((3, 6)) # All elements are 1, 3x6 dimensional array\n",
        "arr6"
      ],
      "metadata": {
        "colab": {
          "base_uri": "https://localhost:8080/"
        },
        "id": "fUr5Hyfr1z3P",
        "outputId": "fdca46b6-bd86-4a63-c162-7a534b1075fc"
      },
      "execution_count": 29,
      "outputs": [
        {
          "output_type": "execute_result",
          "data": {
            "text/plain": [
              "array([[1., 1., 1., 1., 1., 1.],\n",
              "       [1., 1., 1., 1., 1., 1.],\n",
              "       [1., 1., 1., 1., 1., 1.]])"
            ]
          },
          "metadata": {},
          "execution_count": 29
        }
      ]
    },
    {
      "cell_type": "code",
      "source": [
        "arr7 = np.arange(4,20,2)\n",
        "arr7"
      ],
      "metadata": {
        "colab": {
          "base_uri": "https://localhost:8080/"
        },
        "id": "w1rozL152K1m",
        "outputId": "70d66289-7863-457b-df1a-6a1156609fce"
      },
      "execution_count": 30,
      "outputs": [
        {
          "output_type": "execute_result",
          "data": {
            "text/plain": [
              "array([ 4,  6,  8, 10, 12, 14, 16, 18])"
            ]
          },
          "metadata": {},
          "execution_count": 30
        }
      ]
    },
    {
      "cell_type": "code",
      "source": [
        "arr8 = np.arange(20)\n",
        "arr8"
      ],
      "metadata": {
        "colab": {
          "base_uri": "https://localhost:8080/"
        },
        "id": "119IQqKo2kye",
        "outputId": "6895bda5-ab47-4b8b-c468-a7a76995e75c"
      },
      "execution_count": 32,
      "outputs": [
        {
          "output_type": "execute_result",
          "data": {
            "text/plain": [
              "array([ 0,  1,  2,  3,  4,  5,  6,  7,  8,  9, 10, 11, 12, 13, 14, 15, 16,\n",
              "       17, 18, 19])"
            ]
          },
          "metadata": {},
          "execution_count": 32
        }
      ]
    },
    {
      "cell_type": "code",
      "source": [
        "import numpy as np\n",
        "\n",
        "def one_dim(n):\n",
        "    arr1 = np.arange(n)\n",
        "    return arr1\n",
        "\n",
        "for i in range(1, 10):\n",
        "  assert len(one_dim(i)) == i, f\"n elementlar soni, funksiyada noto'g'ri qo'llanilgan\" # n number of elements\n",
        "  arr = one_dim(i) # massiv\n",
        "  assert arr.ndim == 1, f\"1-o'lchamli massiv aniqlanmadi\"#size of massiv\n",
        "  assert type(arr) == np.ndarray, f\"massiv aniqlanmadi\" #numpy array"
      ],
      "metadata": {
        "id": "1oW1Z7Lp21e9"
      },
      "execution_count": 34,
      "outputs": []
    },
    {
      "cell_type": "code",
      "source": [
        "def two_dim(r, c):\n",
        "    arr = np.zeros(shape =(r, c))\n",
        "\n",
        "    return arr\n",
        "\n",
        "arr = two_dim(5, 4) # massiv\n",
        "assert arr.shape == (5, 4), f\"funksiyada, o'lchamlar noto'g'ri qo'llanilgan\" # shape\n",
        "assert arr.ndim == 2, f\"2-o'lchamli massiv aniqlanmadi\" # size of massiv\n",
        "assert type(arr) == np.ndarray, f\"massiv aniqlanmadi\"# #numpy array"
      ],
      "metadata": {
        "id": "otDFUylsGxLC"
      },
      "execution_count": 35,
      "outputs": []
    }
  ]
}