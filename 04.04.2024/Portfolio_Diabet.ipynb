{
  "nbformat": 4,
  "nbformat_minor": 0,
  "metadata": {
    "colab": {
      "provenance": [],
      "authorship_tag": "ABX9TyP+fmP64J6oTM53HaOkDCIP",
      "include_colab_link": true
    },
    "kernelspec": {
      "name": "python3",
      "display_name": "Python 3"
    },
    "language_info": {
      "name": "python"
    }
  },
  "cells": [
    {
      "cell_type": "markdown",
      "metadata": {
        "id": "view-in-github",
        "colab_type": "text"
      },
      "source": [
        "<a href=\"https://colab.research.google.com/github/ChingizIbnVaxob/data-science-practices/blob/main/04.04.2024/Portfolio_Diabet.ipynb\" target=\"_parent\"><img src=\"https://colab.research.google.com/assets/colab-badge.svg\" alt=\"Open In Colab\"/></a>"
      ]
    },
    {
      "cell_type": "code",
      "execution_count": 1,
      "metadata": {
        "id": "0yjBoqH-8qWb"
      },
      "outputs": [],
      "source": [
        "import pandas as pd\n",
        "import numpy as np"
      ]
    },
    {
      "cell_type": "code",
      "source": [
        "df = pd.read_csv(\"https://github.com/anvarnarz/praktikum_datasets/raw/main/diabetes.csv\")\n",
        "df.sample(10)"
      ],
      "metadata": {
        "colab": {
          "base_uri": "https://localhost:8080/",
          "height": 363
        },
        "id": "fy8R1fyb86jx",
        "outputId": "cebef965-31fc-491a-aece-955a3dc43c86"
      },
      "execution_count": 5,
      "outputs": [
        {
          "output_type": "execute_result",
          "data": {
            "text/plain": [
              "     Pregnancies  Glucose  BloodPressure  SkinThickness  Insulin   BMI  \\\n",
              "68             1       95             66             13       38  19.6   \n",
              "296            2      146             70             38      360  28.0   \n",
              "67             2      109             92              0        0  42.7   \n",
              "290            0       78             88             29       40  36.9   \n",
              "412            1      143             84             23      310  42.4   \n",
              "385            1      119             54             13       50  22.3   \n",
              "196            1      105             58              0        0  24.3   \n",
              "553            1       88             62             24       44  29.9   \n",
              "540            8      100             74             40      215  39.4   \n",
              "487            0      173             78             32      265  46.5   \n",
              "\n",
              "     DiabetesPedigreeFunction  Age  Outcome  \n",
              "68                      0.334   25        0  \n",
              "296                     0.337   29        1  \n",
              "67                      0.845   54        0  \n",
              "290                     0.434   21        0  \n",
              "412                     1.076   22        0  \n",
              "385                     0.205   24        0  \n",
              "196                     0.187   21        0  \n",
              "553                     0.422   23        0  \n",
              "540                     0.661   43        1  \n",
              "487                     1.159   58        0  "
            ],
            "text/html": [
              "\n",
              "  <div id=\"df-9be24557-c85d-40a0-a378-99e76d40589b\" class=\"colab-df-container\">\n",
              "    <div>\n",
              "<style scoped>\n",
              "    .dataframe tbody tr th:only-of-type {\n",
              "        vertical-align: middle;\n",
              "    }\n",
              "\n",
              "    .dataframe tbody tr th {\n",
              "        vertical-align: top;\n",
              "    }\n",
              "\n",
              "    .dataframe thead th {\n",
              "        text-align: right;\n",
              "    }\n",
              "</style>\n",
              "<table border=\"1\" class=\"dataframe\">\n",
              "  <thead>\n",
              "    <tr style=\"text-align: right;\">\n",
              "      <th></th>\n",
              "      <th>Pregnancies</th>\n",
              "      <th>Glucose</th>\n",
              "      <th>BloodPressure</th>\n",
              "      <th>SkinThickness</th>\n",
              "      <th>Insulin</th>\n",
              "      <th>BMI</th>\n",
              "      <th>DiabetesPedigreeFunction</th>\n",
              "      <th>Age</th>\n",
              "      <th>Outcome</th>\n",
              "    </tr>\n",
              "  </thead>\n",
              "  <tbody>\n",
              "    <tr>\n",
              "      <th>68</th>\n",
              "      <td>1</td>\n",
              "      <td>95</td>\n",
              "      <td>66</td>\n",
              "      <td>13</td>\n",
              "      <td>38</td>\n",
              "      <td>19.6</td>\n",
              "      <td>0.334</td>\n",
              "      <td>25</td>\n",
              "      <td>0</td>\n",
              "    </tr>\n",
              "    <tr>\n",
              "      <th>296</th>\n",
              "      <td>2</td>\n",
              "      <td>146</td>\n",
              "      <td>70</td>\n",
              "      <td>38</td>\n",
              "      <td>360</td>\n",
              "      <td>28.0</td>\n",
              "      <td>0.337</td>\n",
              "      <td>29</td>\n",
              "      <td>1</td>\n",
              "    </tr>\n",
              "    <tr>\n",
              "      <th>67</th>\n",
              "      <td>2</td>\n",
              "      <td>109</td>\n",
              "      <td>92</td>\n",
              "      <td>0</td>\n",
              "      <td>0</td>\n",
              "      <td>42.7</td>\n",
              "      <td>0.845</td>\n",
              "      <td>54</td>\n",
              "      <td>0</td>\n",
              "    </tr>\n",
              "    <tr>\n",
              "      <th>290</th>\n",
              "      <td>0</td>\n",
              "      <td>78</td>\n",
              "      <td>88</td>\n",
              "      <td>29</td>\n",
              "      <td>40</td>\n",
              "      <td>36.9</td>\n",
              "      <td>0.434</td>\n",
              "      <td>21</td>\n",
              "      <td>0</td>\n",
              "    </tr>\n",
              "    <tr>\n",
              "      <th>412</th>\n",
              "      <td>1</td>\n",
              "      <td>143</td>\n",
              "      <td>84</td>\n",
              "      <td>23</td>\n",
              "      <td>310</td>\n",
              "      <td>42.4</td>\n",
              "      <td>1.076</td>\n",
              "      <td>22</td>\n",
              "      <td>0</td>\n",
              "    </tr>\n",
              "    <tr>\n",
              "      <th>385</th>\n",
              "      <td>1</td>\n",
              "      <td>119</td>\n",
              "      <td>54</td>\n",
              "      <td>13</td>\n",
              "      <td>50</td>\n",
              "      <td>22.3</td>\n",
              "      <td>0.205</td>\n",
              "      <td>24</td>\n",
              "      <td>0</td>\n",
              "    </tr>\n",
              "    <tr>\n",
              "      <th>196</th>\n",
              "      <td>1</td>\n",
              "      <td>105</td>\n",
              "      <td>58</td>\n",
              "      <td>0</td>\n",
              "      <td>0</td>\n",
              "      <td>24.3</td>\n",
              "      <td>0.187</td>\n",
              "      <td>21</td>\n",
              "      <td>0</td>\n",
              "    </tr>\n",
              "    <tr>\n",
              "      <th>553</th>\n",
              "      <td>1</td>\n",
              "      <td>88</td>\n",
              "      <td>62</td>\n",
              "      <td>24</td>\n",
              "      <td>44</td>\n",
              "      <td>29.9</td>\n",
              "      <td>0.422</td>\n",
              "      <td>23</td>\n",
              "      <td>0</td>\n",
              "    </tr>\n",
              "    <tr>\n",
              "      <th>540</th>\n",
              "      <td>8</td>\n",
              "      <td>100</td>\n",
              "      <td>74</td>\n",
              "      <td>40</td>\n",
              "      <td>215</td>\n",
              "      <td>39.4</td>\n",
              "      <td>0.661</td>\n",
              "      <td>43</td>\n",
              "      <td>1</td>\n",
              "    </tr>\n",
              "    <tr>\n",
              "      <th>487</th>\n",
              "      <td>0</td>\n",
              "      <td>173</td>\n",
              "      <td>78</td>\n",
              "      <td>32</td>\n",
              "      <td>265</td>\n",
              "      <td>46.5</td>\n",
              "      <td>1.159</td>\n",
              "      <td>58</td>\n",
              "      <td>0</td>\n",
              "    </tr>\n",
              "  </tbody>\n",
              "</table>\n",
              "</div>\n",
              "    <div class=\"colab-df-buttons\">\n",
              "\n",
              "  <div class=\"colab-df-container\">\n",
              "    <button class=\"colab-df-convert\" onclick=\"convertToInteractive('df-9be24557-c85d-40a0-a378-99e76d40589b')\"\n",
              "            title=\"Convert this dataframe to an interactive table.\"\n",
              "            style=\"display:none;\">\n",
              "\n",
              "  <svg xmlns=\"http://www.w3.org/2000/svg\" height=\"24px\" viewBox=\"0 -960 960 960\">\n",
              "    <path d=\"M120-120v-720h720v720H120Zm60-500h600v-160H180v160Zm220 220h160v-160H400v160Zm0 220h160v-160H400v160ZM180-400h160v-160H180v160Zm440 0h160v-160H620v160ZM180-180h160v-160H180v160Zm440 0h160v-160H620v160Z\"/>\n",
              "  </svg>\n",
              "    </button>\n",
              "\n",
              "  <style>\n",
              "    .colab-df-container {\n",
              "      display:flex;\n",
              "      gap: 12px;\n",
              "    }\n",
              "\n",
              "    .colab-df-convert {\n",
              "      background-color: #E8F0FE;\n",
              "      border: none;\n",
              "      border-radius: 50%;\n",
              "      cursor: pointer;\n",
              "      display: none;\n",
              "      fill: #1967D2;\n",
              "      height: 32px;\n",
              "      padding: 0 0 0 0;\n",
              "      width: 32px;\n",
              "    }\n",
              "\n",
              "    .colab-df-convert:hover {\n",
              "      background-color: #E2EBFA;\n",
              "      box-shadow: 0px 1px 2px rgba(60, 64, 67, 0.3), 0px 1px 3px 1px rgba(60, 64, 67, 0.15);\n",
              "      fill: #174EA6;\n",
              "    }\n",
              "\n",
              "    .colab-df-buttons div {\n",
              "      margin-bottom: 4px;\n",
              "    }\n",
              "\n",
              "    [theme=dark] .colab-df-convert {\n",
              "      background-color: #3B4455;\n",
              "      fill: #D2E3FC;\n",
              "    }\n",
              "\n",
              "    [theme=dark] .colab-df-convert:hover {\n",
              "      background-color: #434B5C;\n",
              "      box-shadow: 0px 1px 3px 1px rgba(0, 0, 0, 0.15);\n",
              "      filter: drop-shadow(0px 1px 2px rgba(0, 0, 0, 0.3));\n",
              "      fill: #FFFFFF;\n",
              "    }\n",
              "  </style>\n",
              "\n",
              "    <script>\n",
              "      const buttonEl =\n",
              "        document.querySelector('#df-9be24557-c85d-40a0-a378-99e76d40589b button.colab-df-convert');\n",
              "      buttonEl.style.display =\n",
              "        google.colab.kernel.accessAllowed ? 'block' : 'none';\n",
              "\n",
              "      async function convertToInteractive(key) {\n",
              "        const element = document.querySelector('#df-9be24557-c85d-40a0-a378-99e76d40589b');\n",
              "        const dataTable =\n",
              "          await google.colab.kernel.invokeFunction('convertToInteractive',\n",
              "                                                    [key], {});\n",
              "        if (!dataTable) return;\n",
              "\n",
              "        const docLinkHtml = 'Like what you see? Visit the ' +\n",
              "          '<a target=\"_blank\" href=https://colab.research.google.com/notebooks/data_table.ipynb>data table notebook</a>'\n",
              "          + ' to learn more about interactive tables.';\n",
              "        element.innerHTML = '';\n",
              "        dataTable['output_type'] = 'display_data';\n",
              "        await google.colab.output.renderOutput(dataTable, element);\n",
              "        const docLink = document.createElement('div');\n",
              "        docLink.innerHTML = docLinkHtml;\n",
              "        element.appendChild(docLink);\n",
              "      }\n",
              "    </script>\n",
              "  </div>\n",
              "\n",
              "\n",
              "<div id=\"df-b2aed3ef-f1a5-4b30-a0d7-5c0918ab3f2c\">\n",
              "  <button class=\"colab-df-quickchart\" onclick=\"quickchart('df-b2aed3ef-f1a5-4b30-a0d7-5c0918ab3f2c')\"\n",
              "            title=\"Suggest charts\"\n",
              "            style=\"display:none;\">\n",
              "\n",
              "<svg xmlns=\"http://www.w3.org/2000/svg\" height=\"24px\"viewBox=\"0 0 24 24\"\n",
              "     width=\"24px\">\n",
              "    <g>\n",
              "        <path d=\"M19 3H5c-1.1 0-2 .9-2 2v14c0 1.1.9 2 2 2h14c1.1 0 2-.9 2-2V5c0-1.1-.9-2-2-2zM9 17H7v-7h2v7zm4 0h-2V7h2v10zm4 0h-2v-4h2v4z\"/>\n",
              "    </g>\n",
              "</svg>\n",
              "  </button>\n",
              "\n",
              "<style>\n",
              "  .colab-df-quickchart {\n",
              "      --bg-color: #E8F0FE;\n",
              "      --fill-color: #1967D2;\n",
              "      --hover-bg-color: #E2EBFA;\n",
              "      --hover-fill-color: #174EA6;\n",
              "      --disabled-fill-color: #AAA;\n",
              "      --disabled-bg-color: #DDD;\n",
              "  }\n",
              "\n",
              "  [theme=dark] .colab-df-quickchart {\n",
              "      --bg-color: #3B4455;\n",
              "      --fill-color: #D2E3FC;\n",
              "      --hover-bg-color: #434B5C;\n",
              "      --hover-fill-color: #FFFFFF;\n",
              "      --disabled-bg-color: #3B4455;\n",
              "      --disabled-fill-color: #666;\n",
              "  }\n",
              "\n",
              "  .colab-df-quickchart {\n",
              "    background-color: var(--bg-color);\n",
              "    border: none;\n",
              "    border-radius: 50%;\n",
              "    cursor: pointer;\n",
              "    display: none;\n",
              "    fill: var(--fill-color);\n",
              "    height: 32px;\n",
              "    padding: 0;\n",
              "    width: 32px;\n",
              "  }\n",
              "\n",
              "  .colab-df-quickchart:hover {\n",
              "    background-color: var(--hover-bg-color);\n",
              "    box-shadow: 0 1px 2px rgba(60, 64, 67, 0.3), 0 1px 3px 1px rgba(60, 64, 67, 0.15);\n",
              "    fill: var(--button-hover-fill-color);\n",
              "  }\n",
              "\n",
              "  .colab-df-quickchart-complete:disabled,\n",
              "  .colab-df-quickchart-complete:disabled:hover {\n",
              "    background-color: var(--disabled-bg-color);\n",
              "    fill: var(--disabled-fill-color);\n",
              "    box-shadow: none;\n",
              "  }\n",
              "\n",
              "  .colab-df-spinner {\n",
              "    border: 2px solid var(--fill-color);\n",
              "    border-color: transparent;\n",
              "    border-bottom-color: var(--fill-color);\n",
              "    animation:\n",
              "      spin 1s steps(1) infinite;\n",
              "  }\n",
              "\n",
              "  @keyframes spin {\n",
              "    0% {\n",
              "      border-color: transparent;\n",
              "      border-bottom-color: var(--fill-color);\n",
              "      border-left-color: var(--fill-color);\n",
              "    }\n",
              "    20% {\n",
              "      border-color: transparent;\n",
              "      border-left-color: var(--fill-color);\n",
              "      border-top-color: var(--fill-color);\n",
              "    }\n",
              "    30% {\n",
              "      border-color: transparent;\n",
              "      border-left-color: var(--fill-color);\n",
              "      border-top-color: var(--fill-color);\n",
              "      border-right-color: var(--fill-color);\n",
              "    }\n",
              "    40% {\n",
              "      border-color: transparent;\n",
              "      border-right-color: var(--fill-color);\n",
              "      border-top-color: var(--fill-color);\n",
              "    }\n",
              "    60% {\n",
              "      border-color: transparent;\n",
              "      border-right-color: var(--fill-color);\n",
              "    }\n",
              "    80% {\n",
              "      border-color: transparent;\n",
              "      border-right-color: var(--fill-color);\n",
              "      border-bottom-color: var(--fill-color);\n",
              "    }\n",
              "    90% {\n",
              "      border-color: transparent;\n",
              "      border-bottom-color: var(--fill-color);\n",
              "    }\n",
              "  }\n",
              "</style>\n",
              "\n",
              "  <script>\n",
              "    async function quickchart(key) {\n",
              "      const quickchartButtonEl =\n",
              "        document.querySelector('#' + key + ' button');\n",
              "      quickchartButtonEl.disabled = true;  // To prevent multiple clicks.\n",
              "      quickchartButtonEl.classList.add('colab-df-spinner');\n",
              "      try {\n",
              "        const charts = await google.colab.kernel.invokeFunction(\n",
              "            'suggestCharts', [key], {});\n",
              "      } catch (error) {\n",
              "        console.error('Error during call to suggestCharts:', error);\n",
              "      }\n",
              "      quickchartButtonEl.classList.remove('colab-df-spinner');\n",
              "      quickchartButtonEl.classList.add('colab-df-quickchart-complete');\n",
              "    }\n",
              "    (() => {\n",
              "      let quickchartButtonEl =\n",
              "        document.querySelector('#df-b2aed3ef-f1a5-4b30-a0d7-5c0918ab3f2c button');\n",
              "      quickchartButtonEl.style.display =\n",
              "        google.colab.kernel.accessAllowed ? 'block' : 'none';\n",
              "    })();\n",
              "  </script>\n",
              "</div>\n",
              "\n",
              "    </div>\n",
              "  </div>\n"
            ],
            "application/vnd.google.colaboratory.intrinsic+json": {
              "type": "dataframe",
              "summary": "{\n  \"name\": \"df\",\n  \"rows\": 10,\n  \"fields\": [\n    {\n      \"column\": \"Pregnancies\",\n      \"properties\": {\n        \"dtype\": \"number\",\n        \"std\": 2,\n        \"min\": 0,\n        \"max\": 8,\n        \"num_unique_values\": 4,\n        \"samples\": [\n          2,\n          8,\n          1\n        ],\n        \"semantic_type\": \"\",\n        \"description\": \"\"\n      }\n    },\n    {\n      \"column\": \"Glucose\",\n      \"properties\": {\n        \"dtype\": \"number\",\n        \"std\": 29,\n        \"min\": 78,\n        \"max\": 173,\n        \"num_unique_values\": 10,\n        \"samples\": [\n          100,\n          146,\n          119\n        ],\n        \"semantic_type\": \"\",\n        \"description\": \"\"\n      }\n    },\n    {\n      \"column\": \"BloodPressure\",\n      \"properties\": {\n        \"dtype\": \"number\",\n        \"std\": 12,\n        \"min\": 54,\n        \"max\": 92,\n        \"num_unique_values\": 10,\n        \"samples\": [\n          74,\n          70,\n          54\n        ],\n        \"semantic_type\": \"\",\n        \"description\": \"\"\n      }\n    },\n    {\n      \"column\": \"SkinThickness\",\n      \"properties\": {\n        \"dtype\": \"number\",\n        \"std\": 14,\n        \"min\": 0,\n        \"max\": 40,\n        \"num_unique_values\": 8,\n        \"samples\": [\n          38,\n          24,\n          13\n        ],\n        \"semantic_type\": \"\",\n        \"description\": \"\"\n      }\n    },\n    {\n      \"column\": \"Insulin\",\n      \"properties\": {\n        \"dtype\": \"number\",\n        \"std\": 139,\n        \"min\": 0,\n        \"max\": 360,\n        \"num_unique_values\": 9,\n        \"samples\": [\n          215,\n          360,\n          50\n        ],\n        \"semantic_type\": \"\",\n        \"description\": \"\"\n      }\n    },\n    {\n      \"column\": \"BMI\",\n      \"properties\": {\n        \"dtype\": \"number\",\n        \"std\": 9.573226554650562,\n        \"min\": 19.6,\n        \"max\": 46.5,\n        \"num_unique_values\": 10,\n        \"samples\": [\n          39.4,\n          28.0,\n          22.3\n        ],\n        \"semantic_type\": \"\",\n        \"description\": \"\"\n      }\n    },\n    {\n      \"column\": \"DiabetesPedigreeFunction\",\n      \"properties\": {\n        \"dtype\": \"number\",\n        \"std\": 0.3522943844760137,\n        \"min\": 0.187,\n        \"max\": 1.159,\n        \"num_unique_values\": 10,\n        \"samples\": [\n          0.661,\n          0.337,\n          0.205\n        ],\n        \"semantic_type\": \"\",\n        \"description\": \"\"\n      }\n    },\n    {\n      \"column\": \"Age\",\n      \"properties\": {\n        \"dtype\": \"number\",\n        \"std\": 14,\n        \"min\": 21,\n        \"max\": 58,\n        \"num_unique_values\": 9,\n        \"samples\": [\n          43,\n          29,\n          24\n        ],\n        \"semantic_type\": \"\",\n        \"description\": \"\"\n      }\n    },\n    {\n      \"column\": \"Outcome\",\n      \"properties\": {\n        \"dtype\": \"number\",\n        \"std\": 0,\n        \"min\": 0,\n        \"max\": 1,\n        \"num_unique_values\": 2,\n        \"samples\": [\n          1,\n          0\n        ],\n        \"semantic_type\": \"\",\n        \"description\": \"\"\n      }\n    }\n  ]\n}"
            }
          },
          "metadata": {},
          "execution_count": 5
        }
      ]
    },
    {
      "cell_type": "code",
      "source": [
        "df.shape"
      ],
      "metadata": {
        "colab": {
          "base_uri": "https://localhost:8080/"
        },
        "id": "JUa8p-sO9Bj4",
        "outputId": "a2fc8f4d-d15c-413f-ec6b-ae94d413b863"
      },
      "execution_count": 6,
      "outputs": [
        {
          "output_type": "execute_result",
          "data": {
            "text/plain": [
              "(768, 9)"
            ]
          },
          "metadata": {},
          "execution_count": 6
        }
      ]
    },
    {
      "cell_type": "code",
      "source": [
        "corr_matrix = df.corr().abs()\n",
        "corr_matrix.style.background_gradient(\"coolwarm\")"
      ],
      "metadata": {
        "colab": {
          "base_uri": "https://localhost:8080/",
          "height": 331
        },
        "id": "KKMMz1hZ-esS",
        "outputId": "4e7f2843-854e-4ab2-9c3e-10f9398b4702"
      },
      "execution_count": 7,
      "outputs": [
        {
          "output_type": "execute_result",
          "data": {
            "text/plain": [
              "<pandas.io.formats.style.Styler at 0x79caf5f67f40>"
            ],
            "text/html": [
              "<style type=\"text/css\">\n",
              "#T_fb81a_row0_col0, #T_fb81a_row1_col1, #T_fb81a_row2_col2, #T_fb81a_row3_col3, #T_fb81a_row4_col4, #T_fb81a_row5_col5, #T_fb81a_row6_col6, #T_fb81a_row7_col7, #T_fb81a_row8_col8 {\n",
              "  background-color: #b40426;\n",
              "  color: #f1f1f1;\n",
              "}\n",
              "#T_fb81a_row0_col1 {\n",
              "  background-color: #516ddb;\n",
              "  color: #f1f1f1;\n",
              "}\n",
              "#T_fb81a_row0_col2 {\n",
              "  background-color: #5a78e4;\n",
              "  color: #f1f1f1;\n",
              "}\n",
              "#T_fb81a_row0_col3, #T_fb81a_row8_col2 {\n",
              "  background-color: #4257c9;\n",
              "  color: #f1f1f1;\n",
              "}\n",
              "#T_fb81a_row0_col4 {\n",
              "  background-color: #445acc;\n",
              "  color: #f1f1f1;\n",
              "}\n",
              "#T_fb81a_row0_col5, #T_fb81a_row0_col6, #T_fb81a_row1_col3, #T_fb81a_row2_col8, #T_fb81a_row3_col1, #T_fb81a_row5_col0, #T_fb81a_row5_col7, #T_fb81a_row6_col2, #T_fb81a_row6_col7, #T_fb81a_row7_col4, #T_fb81a_row7_col6 {\n",
              "  background-color: #3b4cc0;\n",
              "  color: #f1f1f1;\n",
              "}\n",
              "#T_fb81a_row0_col7 {\n",
              "  background-color: #e4d9d2;\n",
              "  color: #000000;\n",
              "}\n",
              "#T_fb81a_row0_col8 {\n",
              "  background-color: #6f92f3;\n",
              "  color: #f1f1f1;\n",
              "}\n",
              "#T_fb81a_row1_col0, #T_fb81a_row1_col2, #T_fb81a_row6_col8 {\n",
              "  background-color: #5e7de7;\n",
              "  color: #f1f1f1;\n",
              "}\n",
              "#T_fb81a_row1_col4 {\n",
              "  background-color: #9fbfff;\n",
              "  color: #000000;\n",
              "}\n",
              "#T_fb81a_row1_col5, #T_fb81a_row8_col0 {\n",
              "  background-color: #7ea1fa;\n",
              "  color: #f1f1f1;\n",
              "}\n",
              "#T_fb81a_row1_col6 {\n",
              "  background-color: #5b7ae5;\n",
              "  color: #f1f1f1;\n",
              "}\n",
              "#T_fb81a_row1_col7 {\n",
              "  background-color: #88abfd;\n",
              "  color: #000000;\n",
              "}\n",
              "#T_fb81a_row1_col8 {\n",
              "  background-color: #c9d7f0;\n",
              "  color: #000000;\n",
              "}\n",
              "#T_fb81a_row2_col0, #T_fb81a_row6_col5 {\n",
              "  background-color: #6282ea;\n",
              "  color: #f1f1f1;\n",
              "}\n",
              "#T_fb81a_row2_col1 {\n",
              "  background-color: #5977e3;\n",
              "  color: #f1f1f1;\n",
              "}\n",
              "#T_fb81a_row2_col3, #T_fb81a_row4_col6 {\n",
              "  background-color: #6c8ff1;\n",
              "  color: #f1f1f1;\n",
              "}\n",
              "#T_fb81a_row2_col4, #T_fb81a_row4_col2 {\n",
              "  background-color: #4961d2;\n",
              "  color: #f1f1f1;\n",
              "}\n",
              "#T_fb81a_row2_col5 {\n",
              "  background-color: #93b5fe;\n",
              "  color: #000000;\n",
              "}\n",
              "#T_fb81a_row2_col6, #T_fb81a_row3_col8, #T_fb81a_row4_col7 {\n",
              "  background-color: #3d50c3;\n",
              "  color: #f1f1f1;\n",
              "}\n",
              "#T_fb81a_row2_col7, #T_fb81a_row8_col7 {\n",
              "  background-color: #80a3fa;\n",
              "  color: #f1f1f1;\n",
              "}\n",
              "#T_fb81a_row3_col0 {\n",
              "  background-color: #4e68d8;\n",
              "  color: #f1f1f1;\n",
              "}\n",
              "#T_fb81a_row3_col2, #T_fb81a_row5_col1 {\n",
              "  background-color: #7295f4;\n",
              "  color: #f1f1f1;\n",
              "}\n",
              "#T_fb81a_row3_col4 {\n",
              "  background-color: #c4d5f3;\n",
              "  color: #000000;\n",
              "}\n",
              "#T_fb81a_row3_col5 {\n",
              "  background-color: #bad0f8;\n",
              "  color: #000000;\n",
              "}\n",
              "#T_fb81a_row3_col6 {\n",
              "  background-color: #6b8df0;\n",
              "  color: #f1f1f1;\n",
              "}\n",
              "#T_fb81a_row3_col7, #T_fb81a_row6_col1 {\n",
              "  background-color: #5470de;\n",
              "  color: #f1f1f1;\n",
              "}\n",
              "#T_fb81a_row4_col0 {\n",
              "  background-color: #4b64d5;\n",
              "  color: #f1f1f1;\n",
              "}\n",
              "#T_fb81a_row4_col1 {\n",
              "  background-color: #9bbcff;\n",
              "  color: #000000;\n",
              "}\n",
              "#T_fb81a_row4_col3 {\n",
              "  background-color: #c1d4f4;\n",
              "  color: #000000;\n",
              "}\n",
              "#T_fb81a_row4_col5 {\n",
              "  background-color: #7597f6;\n",
              "  color: #f1f1f1;\n",
              "}\n",
              "#T_fb81a_row4_col8 {\n",
              "  background-color: #4f69d9;\n",
              "  color: #f1f1f1;\n",
              "}\n",
              "#T_fb81a_row5_col2 {\n",
              "  background-color: #8db0fe;\n",
              "  color: #000000;\n",
              "}\n",
              "#T_fb81a_row5_col3 {\n",
              "  background-color: #b2ccfb;\n",
              "  color: #000000;\n",
              "}\n",
              "#T_fb81a_row5_col4 {\n",
              "  background-color: #6e90f2;\n",
              "  color: #f1f1f1;\n",
              "}\n",
              "#T_fb81a_row5_col6 {\n",
              "  background-color: #5d7ce6;\n",
              "  color: #f1f1f1;\n",
              "}\n",
              "#T_fb81a_row5_col8 {\n",
              "  background-color: #8badfd;\n",
              "  color: #000000;\n",
              "}\n",
              "#T_fb81a_row6_col0, #T_fb81a_row7_col5, #T_fb81a_row8_col3 {\n",
              "  background-color: #3f53c6;\n",
              "  color: #f1f1f1;\n",
              "}\n",
              "#T_fb81a_row6_col3 {\n",
              "  background-color: #6485ec;\n",
              "  color: #f1f1f1;\n",
              "}\n",
              "#T_fb81a_row6_col4 {\n",
              "  background-color: #6a8bef;\n",
              "  color: #f1f1f1;\n",
              "}\n",
              "#T_fb81a_row7_col0 {\n",
              "  background-color: #e6d7cf;\n",
              "  color: #000000;\n",
              "}\n",
              "#T_fb81a_row7_col1 {\n",
              "  background-color: #81a4fb;\n",
              "  color: #f1f1f1;\n",
              "}\n",
              "#T_fb81a_row7_col2 {\n",
              "  background-color: #7da0f9;\n",
              "  color: #f1f1f1;\n",
              "}\n",
              "#T_fb81a_row7_col3 {\n",
              "  background-color: #4c66d6;\n",
              "  color: #f1f1f1;\n",
              "}\n",
              "#T_fb81a_row7_col8 {\n",
              "  background-color: #7699f6;\n",
              "  color: #f1f1f1;\n",
              "}\n",
              "#T_fb81a_row8_col1 {\n",
              "  background-color: #cbd8ee;\n",
              "  color: #000000;\n",
              "}\n",
              "#T_fb81a_row8_col4 {\n",
              "  background-color: #5673e0;\n",
              "  color: #f1f1f1;\n",
              "}\n",
              "#T_fb81a_row8_col5 {\n",
              "  background-color: #97b8ff;\n",
              "  color: #000000;\n",
              "}\n",
              "#T_fb81a_row8_col6 {\n",
              "  background-color: #688aef;\n",
              "  color: #f1f1f1;\n",
              "}\n",
              "</style>\n",
              "<table id=\"T_fb81a\" class=\"dataframe\">\n",
              "  <thead>\n",
              "    <tr>\n",
              "      <th class=\"blank level0\" >&nbsp;</th>\n",
              "      <th id=\"T_fb81a_level0_col0\" class=\"col_heading level0 col0\" >Pregnancies</th>\n",
              "      <th id=\"T_fb81a_level0_col1\" class=\"col_heading level0 col1\" >Glucose</th>\n",
              "      <th id=\"T_fb81a_level0_col2\" class=\"col_heading level0 col2\" >BloodPressure</th>\n",
              "      <th id=\"T_fb81a_level0_col3\" class=\"col_heading level0 col3\" >SkinThickness</th>\n",
              "      <th id=\"T_fb81a_level0_col4\" class=\"col_heading level0 col4\" >Insulin</th>\n",
              "      <th id=\"T_fb81a_level0_col5\" class=\"col_heading level0 col5\" >BMI</th>\n",
              "      <th id=\"T_fb81a_level0_col6\" class=\"col_heading level0 col6\" >DiabetesPedigreeFunction</th>\n",
              "      <th id=\"T_fb81a_level0_col7\" class=\"col_heading level0 col7\" >Age</th>\n",
              "      <th id=\"T_fb81a_level0_col8\" class=\"col_heading level0 col8\" >Outcome</th>\n",
              "    </tr>\n",
              "  </thead>\n",
              "  <tbody>\n",
              "    <tr>\n",
              "      <th id=\"T_fb81a_level0_row0\" class=\"row_heading level0 row0\" >Pregnancies</th>\n",
              "      <td id=\"T_fb81a_row0_col0\" class=\"data row0 col0\" >1.000000</td>\n",
              "      <td id=\"T_fb81a_row0_col1\" class=\"data row0 col1\" >0.129459</td>\n",
              "      <td id=\"T_fb81a_row0_col2\" class=\"data row0 col2\" >0.141282</td>\n",
              "      <td id=\"T_fb81a_row0_col3\" class=\"data row0 col3\" >0.081672</td>\n",
              "      <td id=\"T_fb81a_row0_col4\" class=\"data row0 col4\" >0.073535</td>\n",
              "      <td id=\"T_fb81a_row0_col5\" class=\"data row0 col5\" >0.017683</td>\n",
              "      <td id=\"T_fb81a_row0_col6\" class=\"data row0 col6\" >0.033523</td>\n",
              "      <td id=\"T_fb81a_row0_col7\" class=\"data row0 col7\" >0.544341</td>\n",
              "      <td id=\"T_fb81a_row0_col8\" class=\"data row0 col8\" >0.221898</td>\n",
              "    </tr>\n",
              "    <tr>\n",
              "      <th id=\"T_fb81a_level0_row1\" class=\"row_heading level0 row1\" >Glucose</th>\n",
              "      <td id=\"T_fb81a_row1_col0\" class=\"data row1 col0\" >0.129459</td>\n",
              "      <td id=\"T_fb81a_row1_col1\" class=\"data row1 col1\" >1.000000</td>\n",
              "      <td id=\"T_fb81a_row1_col2\" class=\"data row1 col2\" >0.152590</td>\n",
              "      <td id=\"T_fb81a_row1_col3\" class=\"data row1 col3\" >0.057328</td>\n",
              "      <td id=\"T_fb81a_row1_col4\" class=\"data row1 col4\" >0.331357</td>\n",
              "      <td id=\"T_fb81a_row1_col5\" class=\"data row1 col5\" >0.221071</td>\n",
              "      <td id=\"T_fb81a_row1_col6\" class=\"data row1 col6\" >0.137337</td>\n",
              "      <td id=\"T_fb81a_row1_col7\" class=\"data row1 col7\" >0.263514</td>\n",
              "      <td id=\"T_fb81a_row1_col8\" class=\"data row1 col8\" >0.466581</td>\n",
              "    </tr>\n",
              "    <tr>\n",
              "      <th id=\"T_fb81a_level0_row2\" class=\"row_heading level0 row2\" >BloodPressure</th>\n",
              "      <td id=\"T_fb81a_row2_col0\" class=\"data row2 col0\" >0.141282</td>\n",
              "      <td id=\"T_fb81a_row2_col1\" class=\"data row2 col1\" >0.152590</td>\n",
              "      <td id=\"T_fb81a_row2_col2\" class=\"data row2 col2\" >1.000000</td>\n",
              "      <td id=\"T_fb81a_row2_col3\" class=\"data row2 col3\" >0.207371</td>\n",
              "      <td id=\"T_fb81a_row2_col4\" class=\"data row2 col4\" >0.088933</td>\n",
              "      <td id=\"T_fb81a_row2_col5\" class=\"data row2 col5\" >0.281805</td>\n",
              "      <td id=\"T_fb81a_row2_col6\" class=\"data row2 col6\" >0.041265</td>\n",
              "      <td id=\"T_fb81a_row2_col7\" class=\"data row2 col7\" >0.239528</td>\n",
              "      <td id=\"T_fb81a_row2_col8\" class=\"data row2 col8\" >0.065068</td>\n",
              "    </tr>\n",
              "    <tr>\n",
              "      <th id=\"T_fb81a_level0_row3\" class=\"row_heading level0 row3\" >SkinThickness</th>\n",
              "      <td id=\"T_fb81a_row3_col0\" class=\"data row3 col0\" >0.081672</td>\n",
              "      <td id=\"T_fb81a_row3_col1\" class=\"data row3 col1\" >0.057328</td>\n",
              "      <td id=\"T_fb81a_row3_col2\" class=\"data row3 col2\" >0.207371</td>\n",
              "      <td id=\"T_fb81a_row3_col3\" class=\"data row3 col3\" >1.000000</td>\n",
              "      <td id=\"T_fb81a_row3_col4\" class=\"data row3 col4\" >0.436783</td>\n",
              "      <td id=\"T_fb81a_row3_col5\" class=\"data row3 col5\" >0.392573</td>\n",
              "      <td id=\"T_fb81a_row3_col6\" class=\"data row3 col6\" >0.183928</td>\n",
              "      <td id=\"T_fb81a_row3_col7\" class=\"data row3 col7\" >0.113970</td>\n",
              "      <td id=\"T_fb81a_row3_col8\" class=\"data row3 col8\" >0.074752</td>\n",
              "    </tr>\n",
              "    <tr>\n",
              "      <th id=\"T_fb81a_level0_row4\" class=\"row_heading level0 row4\" >Insulin</th>\n",
              "      <td id=\"T_fb81a_row4_col0\" class=\"data row4 col0\" >0.073535</td>\n",
              "      <td id=\"T_fb81a_row4_col1\" class=\"data row4 col1\" >0.331357</td>\n",
              "      <td id=\"T_fb81a_row4_col2\" class=\"data row4 col2\" >0.088933</td>\n",
              "      <td id=\"T_fb81a_row4_col3\" class=\"data row4 col3\" >0.436783</td>\n",
              "      <td id=\"T_fb81a_row4_col4\" class=\"data row4 col4\" >1.000000</td>\n",
              "      <td id=\"T_fb81a_row4_col5\" class=\"data row4 col5\" >0.197859</td>\n",
              "      <td id=\"T_fb81a_row4_col6\" class=\"data row4 col6\" >0.185071</td>\n",
              "      <td id=\"T_fb81a_row4_col7\" class=\"data row4 col7\" >0.042163</td>\n",
              "      <td id=\"T_fb81a_row4_col8\" class=\"data row4 col8\" >0.130548</td>\n",
              "    </tr>\n",
              "    <tr>\n",
              "      <th id=\"T_fb81a_level0_row5\" class=\"row_heading level0 row5\" >BMI</th>\n",
              "      <td id=\"T_fb81a_row5_col0\" class=\"data row5 col0\" >0.017683</td>\n",
              "      <td id=\"T_fb81a_row5_col1\" class=\"data row5 col1\" >0.221071</td>\n",
              "      <td id=\"T_fb81a_row5_col2\" class=\"data row5 col2\" >0.281805</td>\n",
              "      <td id=\"T_fb81a_row5_col3\" class=\"data row5 col3\" >0.392573</td>\n",
              "      <td id=\"T_fb81a_row5_col4\" class=\"data row5 col4\" >0.197859</td>\n",
              "      <td id=\"T_fb81a_row5_col5\" class=\"data row5 col5\" >1.000000</td>\n",
              "      <td id=\"T_fb81a_row5_col6\" class=\"data row5 col6\" >0.140647</td>\n",
              "      <td id=\"T_fb81a_row5_col7\" class=\"data row5 col7\" >0.036242</td>\n",
              "      <td id=\"T_fb81a_row5_col8\" class=\"data row5 col8\" >0.292695</td>\n",
              "    </tr>\n",
              "    <tr>\n",
              "      <th id=\"T_fb81a_level0_row6\" class=\"row_heading level0 row6\" >DiabetesPedigreeFunction</th>\n",
              "      <td id=\"T_fb81a_row6_col0\" class=\"data row6 col0\" >0.033523</td>\n",
              "      <td id=\"T_fb81a_row6_col1\" class=\"data row6 col1\" >0.137337</td>\n",
              "      <td id=\"T_fb81a_row6_col2\" class=\"data row6 col2\" >0.041265</td>\n",
              "      <td id=\"T_fb81a_row6_col3\" class=\"data row6 col3\" >0.183928</td>\n",
              "      <td id=\"T_fb81a_row6_col4\" class=\"data row6 col4\" >0.185071</td>\n",
              "      <td id=\"T_fb81a_row6_col5\" class=\"data row6 col5\" >0.140647</td>\n",
              "      <td id=\"T_fb81a_row6_col6\" class=\"data row6 col6\" >1.000000</td>\n",
              "      <td id=\"T_fb81a_row6_col7\" class=\"data row6 col7\" >0.033561</td>\n",
              "      <td id=\"T_fb81a_row6_col8\" class=\"data row6 col8\" >0.173844</td>\n",
              "    </tr>\n",
              "    <tr>\n",
              "      <th id=\"T_fb81a_level0_row7\" class=\"row_heading level0 row7\" >Age</th>\n",
              "      <td id=\"T_fb81a_row7_col0\" class=\"data row7 col0\" >0.544341</td>\n",
              "      <td id=\"T_fb81a_row7_col1\" class=\"data row7 col1\" >0.263514</td>\n",
              "      <td id=\"T_fb81a_row7_col2\" class=\"data row7 col2\" >0.239528</td>\n",
              "      <td id=\"T_fb81a_row7_col3\" class=\"data row7 col3\" >0.113970</td>\n",
              "      <td id=\"T_fb81a_row7_col4\" class=\"data row7 col4\" >0.042163</td>\n",
              "      <td id=\"T_fb81a_row7_col5\" class=\"data row7 col5\" >0.036242</td>\n",
              "      <td id=\"T_fb81a_row7_col6\" class=\"data row7 col6\" >0.033561</td>\n",
              "      <td id=\"T_fb81a_row7_col7\" class=\"data row7 col7\" >1.000000</td>\n",
              "      <td id=\"T_fb81a_row7_col8\" class=\"data row7 col8\" >0.238356</td>\n",
              "    </tr>\n",
              "    <tr>\n",
              "      <th id=\"T_fb81a_level0_row8\" class=\"row_heading level0 row8\" >Outcome</th>\n",
              "      <td id=\"T_fb81a_row8_col0\" class=\"data row8 col0\" >0.221898</td>\n",
              "      <td id=\"T_fb81a_row8_col1\" class=\"data row8 col1\" >0.466581</td>\n",
              "      <td id=\"T_fb81a_row8_col2\" class=\"data row8 col2\" >0.065068</td>\n",
              "      <td id=\"T_fb81a_row8_col3\" class=\"data row8 col3\" >0.074752</td>\n",
              "      <td id=\"T_fb81a_row8_col4\" class=\"data row8 col4\" >0.130548</td>\n",
              "      <td id=\"T_fb81a_row8_col5\" class=\"data row8 col5\" >0.292695</td>\n",
              "      <td id=\"T_fb81a_row8_col6\" class=\"data row8 col6\" >0.173844</td>\n",
              "      <td id=\"T_fb81a_row8_col7\" class=\"data row8 col7\" >0.238356</td>\n",
              "      <td id=\"T_fb81a_row8_col8\" class=\"data row8 col8\" >1.000000</td>\n",
              "    </tr>\n",
              "  </tbody>\n",
              "</table>\n"
            ]
          },
          "metadata": {},
          "execution_count": 7
        }
      ]
    },
    {
      "cell_type": "code",
      "source": [
        "df.corrwith(df['Outcome']).abs().sort_values(ascending=False)"
      ],
      "metadata": {
        "colab": {
          "base_uri": "https://localhost:8080/"
        },
        "id": "OubWrogp-7j7",
        "outputId": "672a054a-3f88-4ae8-805b-2d5609e2cdaa"
      },
      "execution_count": 8,
      "outputs": [
        {
          "output_type": "execute_result",
          "data": {
            "text/plain": [
              "Outcome                     1.000000\n",
              "Glucose                     0.466581\n",
              "BMI                         0.292695\n",
              "Age                         0.238356\n",
              "Pregnancies                 0.221898\n",
              "DiabetesPedigreeFunction    0.173844\n",
              "Insulin                     0.130548\n",
              "SkinThickness               0.074752\n",
              "BloodPressure               0.065068\n",
              "dtype: float64"
            ]
          },
          "metadata": {},
          "execution_count": 8
        }
      ]
    },
    {
      "cell_type": "code",
      "source": [
        "X = df.drop('Outcome', axis=1).values\n",
        "y = df['Outcome']"
      ],
      "metadata": {
        "id": "cU0ZPEXv9gsc"
      },
      "execution_count": 10,
      "outputs": []
    },
    {
      "cell_type": "code",
      "source": [
        "from sklearn.preprocessing import StandardScaler\n",
        "\n",
        "scaler = StandardScaler()\n",
        "X = scaler.fit_transform(X)\n",
        "X"
      ],
      "metadata": {
        "colab": {
          "base_uri": "https://localhost:8080/"
        },
        "id": "i0mjAPWx_h9h",
        "outputId": "afdb1b25-4203-4a0d-d690-5b582a0a469c"
      },
      "execution_count": 11,
      "outputs": [
        {
          "output_type": "execute_result",
          "data": {
            "text/plain": [
              "array([[ 0.63994726,  0.84832379,  0.14964075, ...,  0.20401277,\n",
              "         0.46849198,  1.4259954 ],\n",
              "       [-0.84488505, -1.12339636, -0.16054575, ..., -0.68442195,\n",
              "        -0.36506078, -0.19067191],\n",
              "       [ 1.23388019,  1.94372388, -0.26394125, ..., -1.10325546,\n",
              "         0.60439732, -0.10558415],\n",
              "       ...,\n",
              "       [ 0.3429808 ,  0.00330087,  0.14964075, ..., -0.73518964,\n",
              "        -0.68519336, -0.27575966],\n",
              "       [-0.84488505,  0.1597866 , -0.47073225, ..., -0.24020459,\n",
              "        -0.37110101,  1.17073215],\n",
              "       [-0.84488505, -0.8730192 ,  0.04624525, ..., -0.20212881,\n",
              "        -0.47378505, -0.87137393]])"
            ]
          },
          "metadata": {},
          "execution_count": 11
        }
      ]
    },
    {
      "cell_type": "markdown",
      "source": [
        "# ML"
      ],
      "metadata": {
        "id": "JBd8fT5vAKhY"
      }
    },
    {
      "cell_type": "code",
      "source": [
        "from sklearn.model_selection import train_test_split\n",
        "\n",
        "X_train, X_test, y_train, y_test = train_test_split(X, y, test_size=0.2, random_state=12)\n",
        "#k-NN\n",
        "from sklearn.neighbors import KNeighborsClassifier\n",
        "knn= KNeighborsClassifier(n_neighbors=14)\n",
        "\n",
        "knn.fit(X_train, y_train)"
      ],
      "metadata": {
        "colab": {
          "base_uri": "https://localhost:8080/",
          "height": 74
        },
        "id": "i-hPaj_PACwV",
        "outputId": "75b1c39e-a143-43a5-937c-0c1842d33e9b"
      },
      "execution_count": 40,
      "outputs": [
        {
          "output_type": "execute_result",
          "data": {
            "text/plain": [
              "KNeighborsClassifier(n_neighbors=14)"
            ],
            "text/html": [
              "<style>#sk-container-id-7 {color: black;background-color: white;}#sk-container-id-7 pre{padding: 0;}#sk-container-id-7 div.sk-toggleable {background-color: white;}#sk-container-id-7 label.sk-toggleable__label {cursor: pointer;display: block;width: 100%;margin-bottom: 0;padding: 0.3em;box-sizing: border-box;text-align: center;}#sk-container-id-7 label.sk-toggleable__label-arrow:before {content: \"▸\";float: left;margin-right: 0.25em;color: #696969;}#sk-container-id-7 label.sk-toggleable__label-arrow:hover:before {color: black;}#sk-container-id-7 div.sk-estimator:hover label.sk-toggleable__label-arrow:before {color: black;}#sk-container-id-7 div.sk-toggleable__content {max-height: 0;max-width: 0;overflow: hidden;text-align: left;background-color: #f0f8ff;}#sk-container-id-7 div.sk-toggleable__content pre {margin: 0.2em;color: black;border-radius: 0.25em;background-color: #f0f8ff;}#sk-container-id-7 input.sk-toggleable__control:checked~div.sk-toggleable__content {max-height: 200px;max-width: 100%;overflow: auto;}#sk-container-id-7 input.sk-toggleable__control:checked~label.sk-toggleable__label-arrow:before {content: \"▾\";}#sk-container-id-7 div.sk-estimator input.sk-toggleable__control:checked~label.sk-toggleable__label {background-color: #d4ebff;}#sk-container-id-7 div.sk-label input.sk-toggleable__control:checked~label.sk-toggleable__label {background-color: #d4ebff;}#sk-container-id-7 input.sk-hidden--visually {border: 0;clip: rect(1px 1px 1px 1px);clip: rect(1px, 1px, 1px, 1px);height: 1px;margin: -1px;overflow: hidden;padding: 0;position: absolute;width: 1px;}#sk-container-id-7 div.sk-estimator {font-family: monospace;background-color: #f0f8ff;border: 1px dotted black;border-radius: 0.25em;box-sizing: border-box;margin-bottom: 0.5em;}#sk-container-id-7 div.sk-estimator:hover {background-color: #d4ebff;}#sk-container-id-7 div.sk-parallel-item::after {content: \"\";width: 100%;border-bottom: 1px solid gray;flex-grow: 1;}#sk-container-id-7 div.sk-label:hover label.sk-toggleable__label {background-color: #d4ebff;}#sk-container-id-7 div.sk-serial::before {content: \"\";position: absolute;border-left: 1px solid gray;box-sizing: border-box;top: 0;bottom: 0;left: 50%;z-index: 0;}#sk-container-id-7 div.sk-serial {display: flex;flex-direction: column;align-items: center;background-color: white;padding-right: 0.2em;padding-left: 0.2em;position: relative;}#sk-container-id-7 div.sk-item {position: relative;z-index: 1;}#sk-container-id-7 div.sk-parallel {display: flex;align-items: stretch;justify-content: center;background-color: white;position: relative;}#sk-container-id-7 div.sk-item::before, #sk-container-id-7 div.sk-parallel-item::before {content: \"\";position: absolute;border-left: 1px solid gray;box-sizing: border-box;top: 0;bottom: 0;left: 50%;z-index: -1;}#sk-container-id-7 div.sk-parallel-item {display: flex;flex-direction: column;z-index: 1;position: relative;background-color: white;}#sk-container-id-7 div.sk-parallel-item:first-child::after {align-self: flex-end;width: 50%;}#sk-container-id-7 div.sk-parallel-item:last-child::after {align-self: flex-start;width: 50%;}#sk-container-id-7 div.sk-parallel-item:only-child::after {width: 0;}#sk-container-id-7 div.sk-dashed-wrapped {border: 1px dashed gray;margin: 0 0.4em 0.5em 0.4em;box-sizing: border-box;padding-bottom: 0.4em;background-color: white;}#sk-container-id-7 div.sk-label label {font-family: monospace;font-weight: bold;display: inline-block;line-height: 1.2em;}#sk-container-id-7 div.sk-label-container {text-align: center;}#sk-container-id-7 div.sk-container {/* jupyter's `normalize.less` sets `[hidden] { display: none; }` but bootstrap.min.css set `[hidden] { display: none !important; }` so we also need the `!important` here to be able to override the default hidden behavior on the sphinx rendered scikit-learn.org. See: https://github.com/scikit-learn/scikit-learn/issues/21755 */display: inline-block !important;position: relative;}#sk-container-id-7 div.sk-text-repr-fallback {display: none;}</style><div id=\"sk-container-id-7\" class=\"sk-top-container\"><div class=\"sk-text-repr-fallback\"><pre>KNeighborsClassifier(n_neighbors=14)</pre><b>In a Jupyter environment, please rerun this cell to show the HTML representation or trust the notebook. <br />On GitHub, the HTML representation is unable to render, please try loading this page with nbviewer.org.</b></div><div class=\"sk-container\" hidden><div class=\"sk-item\"><div class=\"sk-estimator sk-toggleable\"><input class=\"sk-toggleable__control sk-hidden--visually\" id=\"sk-estimator-id-7\" type=\"checkbox\" checked><label for=\"sk-estimator-id-7\" class=\"sk-toggleable__label sk-toggleable__label-arrow\">KNeighborsClassifier</label><div class=\"sk-toggleable__content\"><pre>KNeighborsClassifier(n_neighbors=14)</pre></div></div></div></div></div>"
            ]
          },
          "metadata": {},
          "execution_count": 40
        }
      ]
    },
    {
      "cell_type": "code",
      "source": [
        "y_predict = knn.predict(X_test)"
      ],
      "metadata": {
        "id": "bQV6lxBEBD_4"
      },
      "execution_count": 41,
      "outputs": []
    },
    {
      "cell_type": "markdown",
      "source": [
        "# Baholash"
      ],
      "metadata": {
        "id": "hOJ7E1eNCKzg"
      }
    },
    {
      "cell_type": "code",
      "source": [
        "from sklearn.metrics import jaccard_score\n",
        "\n",
        "jaccard_score (y_test, y_predict)"
      ],
      "metadata": {
        "colab": {
          "base_uri": "https://localhost:8080/"
        },
        "id": "QDDQpUIJBLgf",
        "outputId": "ac30eb72-70fe-40b7-a5c2-0bc244ee6ed3"
      },
      "execution_count": 42,
      "outputs": [
        {
          "output_type": "execute_result",
          "data": {
            "text/plain": [
              "0.515625"
            ]
          },
          "metadata": {},
          "execution_count": 42
        }
      ]
    },
    {
      "cell_type": "markdown",
      "source": [
        "**Confuion matrix**"
      ],
      "metadata": {
        "id": "AdRuLfeKCh3a"
      }
    },
    {
      "cell_type": "code",
      "source": [
        "from sklearn.metrics import confusion_matrix\n",
        "import seaborn as sns\n",
        "import matplotlib.pyplot  as plt\n",
        "\n",
        "sns.heatmap(confusion_matrix(y_test, y_predict), annot=True)\n",
        "plt.show()"
      ],
      "metadata": {
        "colab": {
          "base_uri": "https://localhost:8080/",
          "height": 435
        },
        "id": "Rh_jklMdBNqP",
        "outputId": "7970c7bb-c617-44ae-884d-403e89b56e97"
      },
      "execution_count": 43,
      "outputs": [
        {
          "output_type": "display_data",
          "data": {
            "text/plain": [
              "<Figure size 640x480 with 2 Axes>"
            ],
            "image/png": "[encoded data removed]"
          },
          "metadata": {}
        }
      ]
    },
    {
      "cell_type": "code",
      "source": [
        "#cross validation\n",
        "\n",
        "from sklearn.model_selection import cross_val_predict\n",
        "predict = cross_val_predict(estimator=knn, X=X, y=y, cv=5)\n",
        "\n",
        "# modelni baholash\n",
        "from sklearn.metrics import classification_report\n",
        "print(\"Classification Report: \\n\", classification_report(y, predict))"
      ],
      "metadata": {
        "colab": {
          "base_uri": "https://localhost:8080/"
        },
        "id": "XT8Yl6E4ClSX",
        "outputId": "85d39509-1099-4398-91cc-3c29537df3d5"
      },
      "execution_count": 46,
      "outputs": [
        {
          "output_type": "stream",
          "name": "stdout",
          "text": [
            "Classification Report: \n",
            "               precision    recall  f1-score   support\n",
            "\n",
            "           0       0.76      0.90      0.82       500\n",
            "           1       0.71      0.47      0.57       268\n",
            "\n",
            "    accuracy                           0.75       768\n",
            "   macro avg       0.74      0.68      0.70       768\n",
            "weighted avg       0.74      0.75      0.73       768\n",
            "\n"
          ]
        }
      ]
    },
    {
      "cell_type": "markdown",
      "source": [
        "**Grid search usuli**"
      ],
      "metadata": {
        "id": "9u9tNQMdES5C"
      }
    },
    {
      "cell_type": "code",
      "source": [
        "from sklearn.model_selection import GridSearchCV\n",
        "param_grid = {'n_neighbors': np.arange(1, 20)}\n",
        "knn_gscv = GridSearchCV(knn, param_grid, cv=5)\n",
        "\n",
        "knn_gscv.fit(X, y)"
      ],
      "metadata": {
        "colab": {
          "base_uri": "https://localhost:8080/",
          "height": 117
        },
        "id": "_1KNaoSfD8rI",
        "outputId": "bac4bb07-42b9-4ae9-ac41-b58622d9324c"
      },
      "execution_count": 59,
      "outputs": [
        {
          "output_type": "execute_result",
          "data": {
            "text/plain": [
              "GridSearchCV(cv=5, estimator=KNeighborsClassifier(n_neighbors=14),\n",
              "             param_grid={'n_neighbors': array([ 1,  2,  3,  4,  5,  6,  7,  8,  9, 10, 11, 12, 13, 14, 15, 16, 17,\n",
              "       18, 19])})"
            ],
            "text/html": [
              "<style>#sk-container-id-11 {color: black;background-color: white;}#sk-container-id-11 pre{padding: 0;}#sk-container-id-11 div.sk-toggleable {background-color: white;}#sk-container-id-11 label.sk-toggleable__label {cursor: pointer;display: block;width: 100%;margin-bottom: 0;padding: 0.3em;box-sizing: border-box;text-align: center;}#sk-container-id-11 label.sk-toggleable__label-arrow:before {content: \"▸\";float: left;margin-right: 0.25em;color: #696969;}#sk-container-id-11 label.sk-toggleable__label-arrow:hover:before {color: black;}#sk-container-id-11 div.sk-estimator:hover label.sk-toggleable__label-arrow:before {color: black;}#sk-container-id-11 div.sk-toggleable__content {max-height: 0;max-width: 0;overflow: hidden;text-align: left;background-color: #f0f8ff;}#sk-container-id-11 div.sk-toggleable__content pre {margin: 0.2em;color: black;border-radius: 0.25em;background-color: #f0f8ff;}#sk-container-id-11 input.sk-toggleable__control:checked~div.sk-toggleable__content {max-height: 200px;max-width: 100%;overflow: auto;}#sk-container-id-11 input.sk-toggleable__control:checked~label.sk-toggleable__label-arrow:before {content: \"▾\";}#sk-container-id-11 div.sk-estimator input.sk-toggleable__control:checked~label.sk-toggleable__label {background-color: #d4ebff;}#sk-container-id-11 div.sk-label input.sk-toggleable__control:checked~label.sk-toggleable__label {background-color: #d4ebff;}#sk-container-id-11 input.sk-hidden--visually {border: 0;clip: rect(1px 1px 1px 1px);clip: rect(1px, 1px, 1px, 1px);height: 1px;margin: -1px;overflow: hidden;padding: 0;position: absolute;width: 1px;}#sk-container-id-11 div.sk-estimator {font-family: monospace;background-color: #f0f8ff;border: 1px dotted black;border-radius: 0.25em;box-sizing: border-box;margin-bottom: 0.5em;}#sk-container-id-11 div.sk-estimator:hover {background-color: #d4ebff;}#sk-container-id-11 div.sk-parallel-item::after {content: \"\";width: 100%;border-bottom: 1px solid gray;flex-grow: 1;}#sk-container-id-11 div.sk-label:hover label.sk-toggleable__label {background-color: #d4ebff;}#sk-container-id-11 div.sk-serial::before {content: \"\";position: absolute;border-left: 1px solid gray;box-sizing: border-box;top: 0;bottom: 0;left: 50%;z-index: 0;}#sk-container-id-11 div.sk-serial {display: flex;flex-direction: column;align-items: center;background-color: white;padding-right: 0.2em;padding-left: 0.2em;position: relative;}#sk-container-id-11 div.sk-item {position: relative;z-index: 1;}#sk-container-id-11 div.sk-parallel {display: flex;align-items: stretch;justify-content: center;background-color: white;position: relative;}#sk-container-id-11 div.sk-item::before, #sk-container-id-11 div.sk-parallel-item::before {content: \"\";position: absolute;border-left: 1px solid gray;box-sizing: border-box;top: 0;bottom: 0;left: 50%;z-index: -1;}#sk-container-id-11 div.sk-parallel-item {display: flex;flex-direction: column;z-index: 1;position: relative;background-color: white;}#sk-container-id-11 div.sk-parallel-item:first-child::after {align-self: flex-end;width: 50%;}#sk-container-id-11 div.sk-parallel-item:last-child::after {align-self: flex-start;width: 50%;}#sk-container-id-11 div.sk-parallel-item:only-child::after {width: 0;}#sk-container-id-11 div.sk-dashed-wrapped {border: 1px dashed gray;margin: 0 0.4em 0.5em 0.4em;box-sizing: border-box;padding-bottom: 0.4em;background-color: white;}#sk-container-id-11 div.sk-label label {font-family: monospace;font-weight: bold;display: inline-block;line-height: 1.2em;}#sk-container-id-11 div.sk-label-container {text-align: center;}#sk-container-id-11 div.sk-container {/* jupyter's `normalize.less` sets `[hidden] { display: none; }` but bootstrap.min.css set `[hidden] { display: none !important; }` so we also need the `!important` here to be able to override the default hidden behavior on the sphinx rendered scikit-learn.org. See: https://github.com/scikit-learn/scikit-learn/issues/21755 */display: inline-block !important;position: relative;}#sk-container-id-11 div.sk-text-repr-fallback {display: none;}</style><div id=\"sk-container-id-11\" class=\"sk-top-container\"><div class=\"sk-text-repr-fallback\"><pre>GridSearchCV(cv=5, estimator=KNeighborsClassifier(n_neighbors=14),\n",
              "             param_grid={&#x27;n_neighbors&#x27;: array([ 1,  2,  3,  4,  5,  6,  7,  8,  9, 10, 11, 12, 13, 14, 15, 16, 17,\n",
              "       18, 19])})</pre><b>In a Jupyter environment, please rerun this cell to show the HTML representation or trust the notebook. <br />On GitHub, the HTML representation is unable to render, please try loading this page with nbviewer.org.</b></div><div class=\"sk-container\" hidden><div class=\"sk-item sk-dashed-wrapped\"><div class=\"sk-label-container\"><div class=\"sk-label sk-toggleable\"><input class=\"sk-toggleable__control sk-hidden--visually\" id=\"sk-estimator-id-17\" type=\"checkbox\" ><label for=\"sk-estimator-id-17\" class=\"sk-toggleable__label sk-toggleable__label-arrow\">GridSearchCV</label><div class=\"sk-toggleable__content\"><pre>GridSearchCV(cv=5, estimator=KNeighborsClassifier(n_neighbors=14),\n",
              "             param_grid={&#x27;n_neighbors&#x27;: array([ 1,  2,  3,  4,  5,  6,  7,  8,  9, 10, 11, 12, 13, 14, 15, 16, 17,\n",
              "       18, 19])})</pre></div></div></div><div class=\"sk-parallel\"><div class=\"sk-parallel-item\"><div class=\"sk-item\"><div class=\"sk-label-container\"><div class=\"sk-label sk-toggleable\"><input class=\"sk-toggleable__control sk-hidden--visually\" id=\"sk-estimator-id-18\" type=\"checkbox\" ><label for=\"sk-estimator-id-18\" class=\"sk-toggleable__label sk-toggleable__label-arrow\">estimator: KNeighborsClassifier</label><div class=\"sk-toggleable__content\"><pre>KNeighborsClassifier(n_neighbors=14)</pre></div></div></div><div class=\"sk-serial\"><div class=\"sk-item\"><div class=\"sk-estimator sk-toggleable\"><input class=\"sk-toggleable__control sk-hidden--visually\" id=\"sk-estimator-id-19\" type=\"checkbox\" ><label for=\"sk-estimator-id-19\" class=\"sk-toggleable__label sk-toggleable__label-arrow\">KNeighborsClassifier</label><div class=\"sk-toggleable__content\"><pre>KNeighborsClassifier(n_neighbors=14)</pre></div></div></div></div></div></div></div></div></div></div>"
            ]
          },
          "metadata": {},
          "execution_count": 59
        }
      ]
    },
    {
      "cell_type": "code",
      "source": [
        "knn_gscv.cv_results_['rank_test_score']"
      ],
      "metadata": {
        "colab": {
          "base_uri": "https://localhost:8080/"
        },
        "id": "bJ3NVpErEiW8",
        "outputId": "bb74fcc4-2323-40af-c124-8c78e228de13"
      },
      "execution_count": 60,
      "outputs": [
        {
          "output_type": "execute_result",
          "data": {
            "text/plain": [
              "array([19, 18, 10, 13, 17, 16, 12, 11, 15, 14,  9,  6,  4,  7,  3,  8,  1,\n",
              "        5,  2], dtype=int32)"
            ]
          },
          "metadata": {},
          "execution_count": 60
        }
      ]
    },
    {
      "cell_type": "code",
      "source": [
        "knn_gscv.best_params_"
      ],
      "metadata": {
        "colab": {
          "base_uri": "https://localhost:8080/"
        },
        "id": "VDWgzlVbEqTT",
        "outputId": "1026777f-c55d-4dd4-af95-88b14a72fb55"
      },
      "execution_count": 61,
      "outputs": [
        {
          "output_type": "execute_result",
          "data": {
            "text/plain": [
              "{'n_neighbors': 17}"
            ]
          },
          "metadata": {},
          "execution_count": 61
        }
      ]
    },
    {
      "cell_type": "code",
      "source": [
        "knn_gscv.best_score_"
      ],
      "metadata": {
        "colab": {
          "base_uri": "https://localhost:8080/"
        },
        "id": "lgin1pMsE55K",
        "outputId": "32008761-fd69-4735-9b28-5124b0b8c1e5"
      },
      "execution_count": 62,
      "outputs": [
        {
          "output_type": "execute_result",
          "data": {
            "text/plain": [
              "0.7669892199303965"
            ]
          },
          "metadata": {},
          "execution_count": 62
        }
      ]
    },
    {
      "cell_type": "code",
      "source": [
        "plt.figure(figsize=(8,5))\n",
        "plt.plot(param_grid['n_neighbors'], knn_gscv.cv_results_['rank_test_score'])\n",
        "plt.xticks(param_grid['n_neighbors'])\n",
        "plt.xlabel(\"k\")\n",
        "plt.ylabel(\"Xatolik reytingi\")\n",
        "plt.grid()\n",
        "plt.show()"
      ],
      "metadata": {
        "colab": {
          "base_uri": "https://localhost:8080/",
          "height": 465
        },
        "id": "0XxpeqeIE-m5",
        "outputId": "5c43e8c0-9e0f-4e51-b0b5-f46b2541badf"
      },
      "execution_count": 63,
      "outputs": [
        {
          "output_type": "display_data",
          "data": {
            "text/plain": [
              "<Figure size 800x500 with 1 Axes>"
            ],
            "image/png": "[encoded data removed]"
          },
          "metadata": {}
        }
      ]
    },
    {
      "cell_type": "code",
      "source": [],
      "metadata": {
        "id": "cn6c2EUQFiM2"
      },
      "execution_count": 58,
      "outputs": []
    }
  ]
}