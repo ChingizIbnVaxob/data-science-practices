{
  "nbformat": 4,
  "nbformat_minor": 0,
  "metadata": {
    "colab": {
      "provenance": [],
      "authorship_tag": "ABX9TyPN+2zajv2wsf3rNIZU+/oT",
      "include_colab_link": true
    },
    "kernelspec": {
      "name": "python3",
      "display_name": "Python 3"
    },
    "language_info": {
      "name": "python"
    }
  },
  "cells": [
    {
      "cell_type": "markdown",
      "metadata": {
        "id": "view-in-github",
        "colab_type": "text"
      },
      "source": [
        "<a href=\"https://colab.research.google.com/github/ChingizIbnVaxob/data-science-practices/blob/main/7.05.2024/UnderHood2_3_4.ipynb\" target=\"_parent\"><img src=\"https://colab.research.google.com/assets/colab-badge.svg\" alt=\"Open In Colab\"/></a>"
      ]
    },
    {
      "cell_type": "markdown",
      "source": [
        "# List, array tensor"
      ],
      "metadata": {
        "id": "IsKrTLKHHmmU"
      }
    },
    {
      "cell_type": "code",
      "execution_count": 51,
      "metadata": {
        "id": "RwV_EQKtHAd9"
      },
      "outputs": [],
      "source": [
        "from fastai.vision.all import *\n",
        "\n",
        "data = [[1,2,3],[4,5,6]] # nested list\n",
        "arr = array(data) # numpy array\n",
        "tns = tensor(data) # torch tensor\n"
      ]
    },
    {
      "cell_type": "code",
      "source": [
        "data"
      ],
      "metadata": {
        "colab": {
          "base_uri": "https://localhost:8080/"
        },
        "id": "Ja9tlGYwIoPu",
        "outputId": "70381e94-a843-4639-a7ad-3d13f578b6fd"
      },
      "execution_count": 52,
      "outputs": [
        {
          "output_type": "execute_result",
          "data": {
            "text/plain": [
              "[[1, 2, 3], [4, 5, 6]]"
            ]
          },
          "metadata": {},
          "execution_count": 52
        }
      ]
    },
    {
      "cell_type": "code",
      "source": [
        "arr"
      ],
      "metadata": {
        "colab": {
          "base_uri": "https://localhost:8080/"
        },
        "id": "8N6ZLu4LI14G",
        "outputId": "ca79cb3a-0eb5-4afe-c58d-ec1615ee0bd6"
      },
      "execution_count": 53,
      "outputs": [
        {
          "output_type": "execute_result",
          "data": {
            "text/plain": [
              "array([[1, 2, 3],\n",
              "       [4, 5, 6]])"
            ]
          },
          "metadata": {},
          "execution_count": 53
        }
      ]
    },
    {
      "cell_type": "code",
      "source": [
        "tns"
      ],
      "metadata": {
        "colab": {
          "base_uri": "https://localhost:8080/"
        },
        "id": "RIlejbOcI2KG",
        "outputId": "e2398f5b-5a73-44ce-db5b-4eac04c90389"
      },
      "execution_count": 54,
      "outputs": [
        {
          "output_type": "execute_result",
          "data": {
            "text/plain": [
              "tensor([[1, 2, 3],\n",
              "        [4, 5, 6]])"
            ]
          },
          "metadata": {},
          "execution_count": 54
        }
      ]
    },
    {
      "cell_type": "markdown",
      "source": [
        "**Model aniqligini broadcasting orqali aniqlash**"
      ],
      "metadata": {
        "id": "0MFKlp-OJ3kC"
      }
    },
    {
      "cell_type": "code",
      "source": [
        "path = untar_data(URLs.MNIST_SAMPLE)\n"
      ],
      "metadata": {
        "id": "XM0eG82NLQzh"
      },
      "execution_count": 55,
      "outputs": []
    },
    {
      "cell_type": "code",
      "source": [
        "threes = (path/'train'/'3').ls().sorted()\n",
        "sevens = (path/'train'/'7').ls().sorted()"
      ],
      "metadata": {
        "id": "_M62rCtIObdS"
      },
      "execution_count": 56,
      "outputs": []
    },
    {
      "cell_type": "code",
      "source": [
        "three_tensors = [tensor(Image.open(i)) for i in threes]\n",
        "seven_tensors = [tensor(Image.open(i)) for i in sevens]\n",
        "len(three_tensors), len(seven_tensors)"
      ],
      "metadata": {
        "colab": {
          "base_uri": "https://localhost:8080/"
        },
        "id": "PcI3SXn3OPh3",
        "outputId": "1bd783e2-74ea-47f9-8d29-2b443a0b46c5"
      },
      "execution_count": 57,
      "outputs": [
        {
          "output_type": "execute_result",
          "data": {
            "text/plain": [
              "(6131, 6265)"
            ]
          },
          "metadata": {},
          "execution_count": 57
        }
      ]
    },
    {
      "cell_type": "code",
      "source": [
        "stacked_threes = torch.stack(three_tensors).float()/255\n",
        "stacked_sevens = torch.stack(seven_tensors).float()/255\n",
        "stacked_threes.shape, stacked_sevens.shape"
      ],
      "metadata": {
        "colab": {
          "base_uri": "https://localhost:8080/"
        },
        "id": "4GCMYLm3ORER",
        "outputId": "a772f8a4-df4d-4584-cacb-75ab3ef3b03e"
      },
      "execution_count": 58,
      "outputs": [
        {
          "output_type": "execute_result",
          "data": {
            "text/plain": [
              "(torch.Size([6131, 28, 28]), torch.Size([6265, 28, 28]))"
            ]
          },
          "metadata": {},
          "execution_count": 58
        }
      ]
    },
    {
      "cell_type": "code",
      "source": [
        "mean3 = stacked_threes.mean(0)\n",
        "mean7 = stacked_sevens.mean(0)\n",
        "\n",
        "show_image(mean3), show_image(mean7)"
      ],
      "metadata": {
        "colab": {
          "base_uri": "https://localhost:8080/",
          "height": 228
        },
        "id": "4HJdwlIEOQ4H",
        "outputId": "3ba0fac3-bc19-423a-fbc3-78e1aa38d29a"
      },
      "execution_count": 59,
      "outputs": [
        {
          "output_type": "execute_result",
          "data": {
            "text/plain": [
              "(<Axes: >, <Axes: >)"
            ]
          },
          "metadata": {},
          "execution_count": 59
        },
        {
          "output_type": "display_data",
          "data": {
            "text/plain": [
              "<Figure size 100x100 with 1 Axes>"
            ],
            "image/png": "[encoded data removed]"
          },
          "metadata": {}
        },
        {
          "output_type": "display_data",
          "data": {
            "text/plain": [
              "<Figure size 100x100 with 1 Axes>"
            ],
            "image/png": "[encoded data removed]"
          },
          "metadata": {}
        }
      ]
    },
    {
      "cell_type": "code",
      "source": [
        "s_3 = stacked_threes[1]\n",
        "s_7 = stacked_sevens[1]"
      ],
      "metadata": {
        "id": "BXfSK-QUO4ah"
      },
      "execution_count": 60,
      "outputs": []
    },
    {
      "cell_type": "code",
      "source": [
        "valid_3_tens = torch.stack([tensor(Image.open(i)) for i in (path/'valid'/'3').ls()])\n",
        "valid_3_tens = valid_3_tens.float()/255\n",
        "\n",
        "valid_7_tens = torch.stack([tensor(Image.open(i)) for i in (path/'valid'/'7').ls()])\n",
        "valid_7_tens = valid_7_tens.float()/255\n",
        "\n",
        "valid_3_tens.shape, valid_7_tens.shape"
      ],
      "metadata": {
        "colab": {
          "base_uri": "https://localhost:8080/"
        },
        "id": "GehLZET0I2nt",
        "outputId": "1c67fe66-13d8-4fde-8c8a-da21f18e77e6"
      },
      "execution_count": 61,
      "outputs": [
        {
          "output_type": "execute_result",
          "data": {
            "text/plain": [
              "(torch.Size([1010, 28, 28]), torch.Size([1028, 28, 28]))"
            ]
          },
          "metadata": {},
          "execution_count": 61
        }
      ]
    },
    {
      "cell_type": "markdown",
      "source": [
        "MAE ni hisonlashni funksiyaga aylantiramiz!"
      ],
      "metadata": {
        "id": "BXXKglyYLZlS"
      }
    },
    {
      "cell_type": "code",
      "source": [
        "# mae xatolik funksiyasi!\n",
        "def mae(a, b):\n",
        "  return (a-b).abs().mean((-1,-2))\n",
        "\n",
        "# tekshirish\n",
        "mae(s_3, mean3)\n",
        "\n",
        "\n",
        "valid_3_errors = mae(valid_3_tens, mean3)\n",
        "valid_7_errors = mae(valid_7_tens, mean7)\n",
        "\n",
        "\n",
        "valid_3_errors, valid_3_errors.shape\n"
      ],
      "metadata": {
        "colab": {
          "base_uri": "https://localhost:8080/"
        },
        "id": "yFCvfmaKLUh6",
        "outputId": "5a9d9235-fdb9-4ead-d285-98847e8c6611"
      },
      "execution_count": 62,
      "outputs": [
        {
          "output_type": "execute_result",
          "data": {
            "text/plain": [
              "(tensor([0.1381, 0.1414, 0.1403,  ..., 0.1424, 0.1162, 0.1587]),\n",
              " torch.Size([1010]))"
            ]
          },
          "metadata": {},
          "execution_count": 62
        }
      ]
    },
    {
      "cell_type": "markdown",
      "source": [
        "# natijalovchi funksiya"
      ],
      "metadata": {
        "id": "0q8ZyhjyZrGj"
      }
    },
    {
      "cell_type": "code",
      "source": [
        "def is_3(x):\n",
        "  return mae(x, mean3) < mae(x, mean7)\n",
        "\n",
        "def is_7(x):\n",
        "  return mae(x, mean7) < mae(x, mean3)\n",
        "\n",
        "is_3(s_3), is_3(s_3).float()"
      ],
      "metadata": {
        "colab": {
          "base_uri": "https://localhost:8080/"
        },
        "id": "wVoq01KzNfoX",
        "outputId": "6c2e6889-1bca-42e8-b831-4c1793989335"
      },
      "execution_count": 63,
      "outputs": [
        {
          "output_type": "execute_result",
          "data": {
            "text/plain": [
              "(tensor(True), tensor(1.))"
            ]
          },
          "metadata": {},
          "execution_count": 63
        }
      ]
    },
    {
      "cell_type": "code",
      "source": [
        "accuracy_3s = is_3(valid_3_tens).float().mean()\n",
        "accuracy_7s = is_7(valid_7_tens).float().mean()\n",
        "accuracy_3s, accuracy_7s, (accuracy_3s+accuracy_7s)/2"
      ],
      "metadata": {
        "colab": {
          "base_uri": "https://localhost:8080/"
        },
        "id": "3EJuKoGcaIF1",
        "outputId": "fa8b720e-2196-45ed-af26-607ad1bb135e"
      },
      "execution_count": 64,
      "outputs": [
        {
          "output_type": "execute_result",
          "data": {
            "text/plain": [
              "(tensor(0.9168), tensor(0.9854), tensor(0.9511))"
            ]
          },
          "metadata": {},
          "execution_count": 64
        }
      ]
    },
    {
      "cell_type": "code",
      "source": [
        "def loss(w):\n",
        "  return w**2"
      ],
      "metadata": {
        "id": "1r_E-_jjaULG"
      },
      "execution_count": 65,
      "outputs": []
    },
    {
      "cell_type": "code",
      "source": [
        "def plot_function(loss, min, max):\n",
        "  w = np.linspace(-5, 5, 100)\n",
        "  plt.plot(w, loss(w))"
      ],
      "metadata": {
        "id": "rcE-wBc6wkfX"
      },
      "execution_count": 66,
      "outputs": []
    },
    {
      "cell_type": "code",
      "source": [
        "plot_function(loss, 'w', 'loss')\n",
        "plt.scatter(-3, loss(-3), color='red')"
      ],
      "metadata": {
        "colab": {
          "base_uri": "https://localhost:8080/",
          "height": 447
        },
        "id": "7CD6m5Gnn5UB",
        "outputId": "8e8713b4-aa4b-4b35-f57e-2162fe35b929"
      },
      "execution_count": 70,
      "outputs": [
        {
          "output_type": "execute_result",
          "data": {
            "text/plain": [
              "<matplotlib.collections.PathCollection at 0x79c7e8854a00>"
            ]
          },
          "metadata": {},
          "execution_count": 70
        },
        {
          "output_type": "display_data",
          "data": {
            "text/plain": [
              "<Figure size 640x480 with 1 Axes>"
            ],
            "image/png": "[encoded data removed]"
          },
          "metadata": {}
        }
      ]
    },
    {
      "cell_type": "code",
      "source": [
        "# tangent line of parabola\n",
        "def parabola_tangent_liner()"
      ],
      "metadata": {
        "colab": {
          "base_uri": "https://localhost:8080/",
          "height": 106
        },
        "id": "JbyVXeQFwhId",
        "outputId": "c451c2e3-b0c0-400a-fc7f-f97a9bf7c25f"
      },
      "execution_count": 68,
      "outputs": [
        {
          "output_type": "error",
          "ename": "SyntaxError",
          "evalue": "expected ':' (<ipython-input-68-3fc04d9a7c9d>, line 2)",
          "traceback": [
            "\u001b[0;36m  File \u001b[0;32m\"<ipython-input-68-3fc04d9a7c9d>\"\u001b[0;36m, line \u001b[0;32m2\u001b[0m\n\u001b[0;31m    def parabola_tangent_liner()\u001b[0m\n\u001b[0m                                ^\u001b[0m\n\u001b[0;31mSyntaxError\u001b[0m\u001b[0;31m:\u001b[0m expected ':'\n"
          ]
        }
      ]
    },
    {
      "cell_type": "code",
      "source": [
        "parabola_tangent_liner(-3)"
      ],
      "metadata": {
        "colab": {
          "base_uri": "https://localhost:8080/",
          "height": 141
        },
        "id": "OTM8ZSaDzK6N",
        "outputId": "b0dabb30-2d7d-43b0-bea2-93997bbc1931"
      },
      "execution_count": 69,
      "outputs": [
        {
          "output_type": "error",
          "ename": "NameError",
          "evalue": "name 'parabola_tangent_liner' is not defined",
          "traceback": [
            "\u001b[0;31m---------------------------------------------------------------------------\u001b[0m",
            "\u001b[0;31mNameError\u001b[0m                                 Traceback (most recent call last)",
            "\u001b[0;32m<ipython-input-69-48b269992694>\u001b[0m in \u001b[0;36m<cell line: 1>\u001b[0;34m()\u001b[0m\n\u001b[0;32m----> 1\u001b[0;31m \u001b[0mparabola_tangent_liner\u001b[0m\u001b[0;34m(\u001b[0m\u001b[0;34m-\u001b[0m\u001b[0;36m3\u001b[0m\u001b[0;34m)\u001b[0m\u001b[0;34m\u001b[0m\u001b[0;34m\u001b[0m\u001b[0m\n\u001b[0m",
            "\u001b[0;31mNameError\u001b[0m: name 'parabola_tangent_liner' is not defined"
          ]
        }
      ]
    },
    {
      "cell_type": "code",
      "source": [
        "w_t = torch.tensor(3., requires_grad=True)\n",
        "w_t"
      ],
      "metadata": {
        "colab": {
          "base_uri": "https://localhost:8080/"
        },
        "id": "Gs_GTANh19lB",
        "outputId": "d46b76f2-0d66-4ec1-c7aa-7fb8bf2369bd"
      },
      "execution_count": 71,
      "outputs": [
        {
          "output_type": "execute_result",
          "data": {
            "text/plain": [
              "tensor(3., requires_grad=True)"
            ]
          },
          "metadata": {},
          "execution_count": 71
        }
      ]
    },
    {
      "cell_type": "code",
      "source": [
        "loss_v = loss(w_t)\n",
        "loss_v"
      ],
      "metadata": {
        "colab": {
          "base_uri": "https://localhost:8080/"
        },
        "id": "aeHgmTpP2EA_",
        "outputId": "c81146bd-854b-4aee-9700-ba475a9f212a"
      },
      "execution_count": 72,
      "outputs": [
        {
          "output_type": "execute_result",
          "data": {
            "text/plain": [
              "tensor(9., grad_fn=<PowBackward0>)"
            ]
          },
          "metadata": {},
          "execution_count": 72
        }
      ]
    },
    {
      "cell_type": "code",
      "source": [
        "loss_v.backward()"
      ],
      "metadata": {
        "id": "dHJby5UP31iw"
      },
      "execution_count": 73,
      "outputs": []
    },
    {
      "cell_type": "code",
      "source": [
        "w_t.grad"
      ],
      "metadata": {
        "colab": {
          "base_uri": "https://localhost:8080/"
        },
        "id": "8xlg5Mc64BMf",
        "outputId": "9669778d-b355-4895-c53d-1bf7027310f0"
      },
      "execution_count": 74,
      "outputs": [
        {
          "output_type": "execute_result",
          "data": {
            "text/plain": [
              "tensor(6.)"
            ]
          },
          "metadata": {},
          "execution_count": 74
        }
      ]
    },
    {
      "cell_type": "markdown",
      "source": [
        "# step with learning rate\n",
        "\n",
        "\n",
        "\n",
        "1.   `w = w + lr*w.grad`\n",
        "2.   `w = w - lr*w.grad`\n",
        "\n"
      ],
      "metadata": {
        "id": "U1gZMqCq5pmS"
      }
    },
    {
      "cell_type": "code",
      "source": [
        "lr  = 1e-5"
      ],
      "metadata": {
        "id": "5Vs3-cXQWxuS"
      },
      "execution_count": 97,
      "outputs": []
    },
    {
      "cell_type": "code",
      "source": [
        "w = w_t + lr*(w_t.grad)\n",
        "w"
      ],
      "metadata": {
        "colab": {
          "base_uri": "https://localhost:8080/"
        },
        "id": "gjV-abhE4PxW",
        "outputId": "7b919681-c4fc-466b-d35e-0ecebed35278"
      },
      "execution_count": 98,
      "outputs": [
        {
          "output_type": "execute_result",
          "data": {
            "text/plain": [
              "tensor(3.0001, grad_fn=<AddBackward0>)"
            ]
          },
          "metadata": {},
          "execution_count": 98
        }
      ]
    },
    {
      "cell_type": "code",
      "source": [
        "time = torch.arange(0, 20).float()\n",
        "time"
      ],
      "metadata": {
        "colab": {
          "base_uri": "https://localhost:8080/"
        },
        "id": "ZXMYyXvzO237",
        "outputId": "7fa079ea-b087-434f-b08c-eedc63e22e1e"
      },
      "execution_count": 77,
      "outputs": [
        {
          "output_type": "execute_result",
          "data": {
            "text/plain": [
              "tensor([ 0.,  1.,  2.,  3.,  4.,  5.,  6.,  7.,  8.,  9., 10., 11., 12., 13.,\n",
              "        14., 15., 16., 17., 18., 19.])"
            ]
          },
          "metadata": {},
          "execution_count": 77
        }
      ]
    },
    {
      "cell_type": "code",
      "source": [
        "speed = torch.randn(20)*3 + 0.75*(time-9.5)**2 + 1\n",
        "speed"
      ],
      "metadata": {
        "colab": {
          "base_uri": "https://localhost:8080/"
        },
        "id": "sEPhINCKRwAE",
        "outputId": "a48afff8-b330-4bba-c1ac-67d77e1dfeea"
      },
      "execution_count": 78,
      "outputs": [
        {
          "output_type": "execute_result",
          "data": {
            "text/plain": [
              "tensor([69.5084, 57.2810, 41.6253, 34.8357, 20.8045, 14.7251,  9.4898,  9.4913,\n",
              "         3.1408,  4.7814, -1.9205,  4.5698,  7.4872, 13.9565, 12.6154, 20.0091,\n",
              "        34.0765, 39.6207, 58.8328, 69.7320])"
            ]
          },
          "metadata": {},
          "execution_count": 78
        }
      ]
    },
    {
      "cell_type": "code",
      "source": [
        "plt.scatter(time, speed)\n",
        "plt.xlabel('time')\n",
        "plt.ylabel('speed')\n",
        "plt.title('Roller Coaster Tezligi')"
      ],
      "metadata": {
        "colab": {
          "base_uri": "https://localhost:8080/",
          "height": 489
        },
        "id": "E8dMCCh8R1bU",
        "outputId": "b49b4c20-b729-45cf-fd03-2eda37ffec44"
      },
      "execution_count": 79,
      "outputs": [
        {
          "output_type": "execute_result",
          "data": {
            "text/plain": [
              "Text(0.5, 1.0, 'Roller Coaster Tezligi')"
            ]
          },
          "metadata": {},
          "execution_count": 79
        },
        {
          "output_type": "display_data",
          "data": {
            "text/plain": [
              "<Figure size 640x480 with 1 Axes>"
            ],
            "image/png": "[encoded data removed]"
          },
          "metadata": {}
        }
      ]
    },
    {
      "cell_type": "code",
      "source": [
        "def f(t, params):\n",
        "  ''' quadratic function'''\n",
        "  a, b, c = params\n",
        "  return a*(t**2) + (b*t) + c"
      ],
      "metadata": {
        "id": "K6NOY4GxSVCS"
      },
      "execution_count": 80,
      "outputs": []
    },
    {
      "cell_type": "code",
      "source": [
        "# loss function\n",
        "\n",
        "def mse (preds, targets):\n",
        "  return ((preds-targets)**2).mean()"
      ],
      "metadata": {
        "id": "OwtqqcxTThKc"
      },
      "execution_count": 81,
      "outputs": []
    },
    {
      "cell_type": "markdown",
      "source": [
        "# 7 ta step bor!\n",
        "\n",
        "*  1 Initialize (Vaznlarni boshlang'ich qiymatini yaratib olish)"
      ],
      "metadata": {
        "id": "Njbthz9UUhn6"
      }
    },
    {
      "cell_type": "code",
      "source": [
        "params = torch.randn(3).requires_grad_()\n",
        "params"
      ],
      "metadata": {
        "colab": {
          "base_uri": "https://localhost:8080/"
        },
        "id": "i7r0fE8ZToIy",
        "outputId": "56b84669-32d1-43fa-9e6c-d69c9b18a57f"
      },
      "execution_count": 83,
      "outputs": [
        {
          "output_type": "execute_result",
          "data": {
            "text/plain": [
              "tensor([-0.6538,  0.3997, -1.4243], requires_grad=True)"
            ]
          },
          "metadata": {},
          "execution_count": 83
        }
      ]
    },
    {
      "cell_type": "markdown",
      "source": [
        "* 2 Prediction (Bashorat)"
      ],
      "metadata": {
        "id": "i5KzqxbkU-0J"
      }
    },
    {
      "cell_type": "code",
      "source": [
        "preds = f(time, params)\n",
        "preds"
      ],
      "metadata": {
        "colab": {
          "base_uri": "https://localhost:8080/"
        },
        "id": "JjPaIX4RU61d",
        "outputId": "e2234e39-dbb5-4158-bfe4-a7198539bd4a"
      },
      "execution_count": 84,
      "outputs": [
        {
          "output_type": "execute_result",
          "data": {
            "text/plain": [
              "tensor([  -1.4243,   -1.6784,   -3.2401,   -6.1094,  -10.2863,  -15.7709,\n",
              "         -22.5630,  -30.6628,  -40.0702,  -50.7851,  -62.8077,  -76.1379,\n",
              "         -90.7757, -106.7211, -123.9741, -142.5347, -162.4030, -183.5788,\n",
              "        -206.0622, -229.8533], grad_fn=<AddBackward0>)"
            ]
          },
          "metadata": {},
          "execution_count": 84
        }
      ]
    },
    {
      "cell_type": "code",
      "source": [
        "def show_preds(preds, ax=None):\n",
        "   plt.scatter(time, speed, label='speed')\n",
        "   plt.scatter(time, to_np(preds), label='preds')\n",
        "   plt.legend()\n"
      ],
      "metadata": {
        "id": "f2shV2B4VGvj"
      },
      "execution_count": 91,
      "outputs": []
    },
    {
      "cell_type": "code",
      "source": [
        "show_preds(preds)"
      ],
      "metadata": {
        "colab": {
          "base_uri": "https://localhost:8080/",
          "height": 430
        },
        "id": "-CKWhV3AVeKJ",
        "outputId": "9560c74d-8bd4-4b3b-8b2f-beea27fa6cab"
      },
      "execution_count": 92,
      "outputs": [
        {
          "output_type": "display_data",
          "data": {
            "text/plain": [
              "<Figure size 640x480 with 1 Axes>"
            ],
            "image/png": "[encoded data removed]"
          },
          "metadata": {}
        }
      ]
    },
    {
      "cell_type": "markdown",
      "source": [
        "* 3 Loss ni baholash"
      ],
      "metadata": {
        "id": "UWbYJjQHWF64"
      }
    },
    {
      "cell_type": "code",
      "source": [
        "loss = mse(preds, speed)\n",
        "loss"
      ],
      "metadata": {
        "colab": {
          "base_uri": "https://localhost:8080/"
        },
        "id": "6eU5AsCHVfwJ",
        "outputId": "94e7cfca-f3a3-4873-9420-008773ee795e"
      },
      "execution_count": 93,
      "outputs": [
        {
          "output_type": "execute_result",
          "data": {
            "text/plain": [
              "tensor(17477.3965, grad_fn=<MeanBackward0>)"
            ]
          },
          "metadata": {},
          "execution_count": 93
        }
      ]
    },
    {
      "cell_type": "markdown",
      "source": [
        "* 4 Gradientni hisoblash"
      ],
      "metadata": {
        "id": "HzEI-sm8WUvq"
      }
    },
    {
      "cell_type": "code",
      "source": [
        "loss.backward()\n",
        "params.grad"
      ],
      "metadata": {
        "colab": {
          "base_uri": "https://localhost:8080/"
        },
        "id": "G48EcCUyWLBf",
        "outputId": "136032d0-4648-4fb1-8438-ecaf7c644b4f"
      },
      "execution_count": 95,
      "outputs": [
        {
          "output_type": "execute_result",
          "data": {
            "text/plain": [
              "tensor([-43477.6875,  -2786.0874,   -209.2101])"
            ]
          },
          "metadata": {},
          "execution_count": 95
        }
      ]
    },
    {
      "cell_type": "markdown",
      "source": [
        "* 5 Step"
      ],
      "metadata": {
        "id": "_fzZdrlyWngr"
      }
    },
    {
      "cell_type": "code",
      "source": [
        "lr  = 1e-5\n",
        "params.data -= lr*params.grad.data\n",
        "params.grad = None"
      ],
      "metadata": {
        "id": "_AhBHg7gWdBV"
      },
      "execution_count": 96,
      "outputs": []
    },
    {
      "cell_type": "markdown",
      "source": [
        "* 6. 2 chi qadamga qaytib yana bashoratni amalga oshirish"
      ],
      "metadata": {
        "id": "yJigA-FMW9dp"
      }
    },
    {
      "cell_type": "code",
      "source": [
        "preds = f(time, params)\n",
        "#yangi olingan bashorat uchun xatolikni xisoblash\n",
        "mse(preds, speed)"
      ],
      "metadata": {
        "colab": {
          "base_uri": "https://localhost:8080/"
        },
        "id": "iomSj8qJWtnr",
        "outputId": "e8eb316c-c249-47a3-fd5a-626b5f27b57f"
      },
      "execution_count": 100,
      "outputs": [
        {
          "output_type": "execute_result",
          "data": {
            "text/plain": [
              "tensor(3858.3589, grad_fn=<MeanBackward0>)"
            ]
          },
          "metadata": {},
          "execution_count": 100
        }
      ]
    },
    {
      "cell_type": "code",
      "source": [
        "show_preds(preds)"
      ],
      "metadata": {
        "colab": {
          "base_uri": "https://localhost:8080/",
          "height": 430
        },
        "id": "wujlgJ3ZXKZx",
        "outputId": "cac75197-bf62-45b1-a343-b42274457258"
      },
      "execution_count": 101,
      "outputs": [
        {
          "output_type": "display_data",
          "data": {
            "text/plain": [
              "<Figure size 640x480 with 1 Axes>"
            ],
            "image/png": "[encoded data removed]"
          },
          "metadata": {}
        }
      ]
    },
    {
      "cell_type": "code",
      "source": [
        "def apply_step(params, prn=True):\n",
        "  preds = f(time, params)\n",
        "  loss = mse(preds, speed)\n",
        "  loss.backward()\n",
        "  params.data -= lr*params.grad.data\n",
        "  params.grad = None\n",
        "  if prn:\n",
        "    print(loss.item())\n",
        "  return preds"
      ],
      "metadata": {
        "id": "sx98K2oWXpgx"
      },
      "execution_count": 102,
      "outputs": []
    },
    {
      "cell_type": "markdown",
      "source": [
        "* 7. Istalgan epoch`gacha modelni o'qitish"
      ],
      "metadata": {
        "id": "tnBOWAL6XheB"
      }
    },
    {
      "cell_type": "code",
      "source": [
        "for epoch in range(100):\n",
        "  apply_step(params)"
      ],
      "metadata": {
        "colab": {
          "base_uri": "https://localhost:8080/"
        },
        "id": "oBw0RQ1yXZO4",
        "outputId": "c07de144-434d-41f8-9c9b-12942190822f"
      },
      "execution_count": 115,
      "outputs": [
        {
          "output_type": "stream",
          "name": "stdout",
          "text": [
            "567.21728515625\n",
            "567.2144165039062\n",
            "567.2114868164062\n",
            "567.2086181640625\n",
            "567.2056884765625\n",
            "567.2027587890625\n",
            "567.1998291015625\n",
            "567.1968994140625\n",
            "567.1940307617188\n",
            "567.191162109375\n",
            "567.1882934570312\n",
            "567.1853637695312\n",
            "567.1824951171875\n",
            "567.1795043945312\n",
            "567.1766357421875\n",
            "567.1737670898438\n",
            "567.1708374023438\n",
            "567.16796875\n",
            "567.1650390625\n",
            "567.162109375\n",
            "567.1593017578125\n",
            "567.15625\n",
            "567.1534423828125\n",
            "567.1505126953125\n",
            "567.1475830078125\n",
            "567.144775390625\n",
            "567.141845703125\n",
            "567.1388549804688\n",
            "567.1360473632812\n",
            "567.1331176757812\n",
            "567.1302490234375\n",
            "567.1272583007812\n",
            "567.1243896484375\n",
            "567.1215209960938\n",
            "567.11865234375\n",
            "567.1157836914062\n",
            "567.11279296875\n",
            "567.10986328125\n",
            "567.1069946289062\n",
            "567.1040649414062\n",
            "567.1011962890625\n",
            "567.0983276367188\n",
            "567.0953369140625\n",
            "567.0924682617188\n",
            "567.0895385742188\n",
            "567.0866088867188\n",
            "567.0836791992188\n",
            "567.0809326171875\n",
            "567.0780029296875\n",
            "567.0751342773438\n",
            "567.0721435546875\n",
            "567.0692138671875\n",
            "567.0662841796875\n",
            "567.0634765625\n",
            "567.060546875\n",
            "567.0576782226562\n",
            "567.0547485351562\n",
            "567.0518188476562\n",
            "567.0489501953125\n",
            "567.0460205078125\n",
            "567.0431518554688\n",
            "567.0402221679688\n",
            "567.037353515625\n",
            "567.0344848632812\n",
            "567.0316162109375\n",
            "567.0286254882812\n",
            "567.0258178710938\n",
            "567.0228271484375\n",
            "567.0199584960938\n",
            "567.01708984375\n",
            "567.0142211914062\n",
            "567.0113525390625\n",
            "567.0083618164062\n",
            "567.0054931640625\n",
            "567.002685546875\n",
            "566.999755859375\n",
            "566.9968872070312\n",
            "566.993896484375\n",
            "566.9910888671875\n",
            "566.9882202148438\n",
            "566.9852294921875\n",
            "566.982421875\n",
            "566.9794311523438\n",
            "566.9765014648438\n",
            "566.9737548828125\n",
            "566.9708251953125\n",
            "566.9679565429688\n",
            "566.9649658203125\n",
            "566.9620361328125\n",
            "566.9591674804688\n",
            "566.956298828125\n",
            "566.9534912109375\n",
            "566.9505615234375\n",
            "566.9476318359375\n",
            "566.9447021484375\n",
            "566.9418334960938\n",
            "566.9389038085938\n",
            "566.9360961914062\n",
            "566.93310546875\n",
            "566.9302368164062\n"
          ]
        }
      ]
    },
    {
      "cell_type": "code",
      "source": [
        "_, axs = plt.subplots(1, 4, figsize=(14, 3))\n",
        "\n",
        "for ax in axs:\n",
        "  show_preds(apply_step(params, prn=False), ax)\n",
        "\n",
        "plt.tight_layout()"
      ],
      "metadata": {
        "colab": {
          "base_uri": "https://localhost:8080/",
          "height": 296
        },
        "id": "P6H8sosPYBKd",
        "outputId": "4bcad282-058d-44cc-c8ab-fd9b5c792bb4"
      },
      "execution_count": 116,
      "outputs": [
        {
          "output_type": "display_data",
          "data": {
            "text/plain": [
              "<Figure size 1400x300 with 4 Axes>"
            ],
            "image/png": "[encoded data removed]"
          },
          "metadata": {}
        }
      ]
    },
    {
      "cell_type": "markdown",
      "source": [
        "Gradient Descent(GD), Stochastic Gradient Descent(SGD), Mini-batch"
      ],
      "metadata": {
        "id": "TAqSbpF3vQmW"
      }
    },
    {
      "cell_type": "code",
      "source": [],
      "metadata": {
        "id": "LJyDTNtAYgK6"
      },
      "execution_count": null,
      "outputs": []
    }
  ]
}